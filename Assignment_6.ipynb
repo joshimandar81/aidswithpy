{
 "cells": [
  {
   "cell_type": "code",
   "execution_count": 1,
   "metadata": {},
   "outputs": [
    {
     "name": "stdout",
     "output_type": "stream",
     "text": [
      "Requirement already satisfied: GetOldTweets3 in d:\\anaconda\\lib\\site-packages (0.0.11)\n",
      "Requirement already satisfied: lxml>=3.5.0 in d:\\anaconda\\lib\\site-packages (from GetOldTweets3) (4.4.1)\n",
      "Requirement already satisfied: pyquery>=1.2.10 in d:\\anaconda\\lib\\site-packages (from GetOldTweets3) (1.4.1)\n",
      "Requirement already satisfied: cssselect>0.7.9 in d:\\anaconda\\lib\\site-packages (from pyquery>=1.2.10->GetOldTweets3) (1.1.0)\n"
     ]
    }
   ],
   "source": [
    "!pip install GetOldTweets3"
   ]
  },
  {
   "cell_type": "code",
   "execution_count": 1,
   "metadata": {},
   "outputs": [],
   "source": [
    "import string\n",
    "from collections import Counter\n",
    "\n",
    "import matplotlib.pyplot as plt\n",
    "import GetOldTweets3 as got\n",
    "from nltk.corpus import stopwords"
   ]
  },
  {
   "cell_type": "markdown",
   "metadata": {},
   "source": [
    "# BEFORE OUTBREAK IN INDIA FROM 01 JAN TO 02 FEB 2020"
   ]
  },
  {
   "cell_type": "code",
   "execution_count": 2,
   "metadata": {},
   "outputs": [],
   "source": [
    "def get_tweets():\n",
    "    tweetCriteria = got.manager.TweetCriteria().setQuerySearch('COVID-19') \\\n",
    "        .setSince(\"2020-01-01\") \\\n",
    "        .setUntil(\"2020-02-02\") \\\n",
    "        .setMaxTweets(100)\n",
    "        \n",
    "    tweets = got.manager.TweetManager.getTweets(tweetCriteria)\n",
    "        \n",
    "    text_tweets = [[tweet.text] for tweet in tweets]\n",
    "    return text_tweets"
   ]
  },
  {
   "cell_type": "code",
   "execution_count": 3,
   "metadata": {},
   "outputs": [],
   "source": [
    "text = \"\"\n",
    "text_tweets = get_tweets()\n",
    "\n",
    "lenght = len(text_tweets)\n",
    "\n",
    "for i in range(0, lenght):\n",
    "    text = text_tweets[i][0] + \" \" + text\n",
    "    \n",
    "lower_case = text.lower()\n",
    "\n",
    "cleaned_text = lower_case.translate(str.maketrans('','',string.punctuation))\n",
    "\n",
    "tokenized_words = cleaned_text.split()"
   ]
  },
  {
   "cell_type": "code",
   "execution_count": 4,
   "metadata": {},
   "outputs": [
    {
     "data": {
      "text/plain": [
       "[['Institut Pasteur sequences the whole genome of the Wuhan coronavirus, 2019-nCoV https://medicalxpress.com/news/2020-01-pasteur-sequences-genome-wuhan-coronavirus.html #coronarvirus #CoronavirusOutbreak #genetics @V2019N'],\n",
       " ['Cool! Thanks for sharing!'],\n",
       " ['this is the official site for China Municipal Health Service. not updated yet today. http://www.nhc.gov.cn/xcs/yqfkdt/202002/84faf71e096446fdb1ae44939ba5c528.shtml'],\n",
       " ['Link? also from @washingtonpost today:'],\n",
       " ['Epidemiología, en gráfico, de el foco/origen de los casos de #2019nCoV @V2019N diagnosticados fuera de China #Coronarivus'],\n",
       " ['@V2019N did u see the Chinese confirmed cases and deaths went down on their site? Not sure if it’s a mistake.'],\n",
       " ['Ver @V2019N'],\n",
       " ['You can bet whatever number China is giving the world x 100% you might have a true number'],\n",
       " ['thread Fauci on #coronavirus #US travel ban decision on @CNN (post link when available)'],\n",
       " ['you may need to add another 10,000 deaths to that number as of today. A lot of used body bags out there.'],\n",
       " ['latest on #coronavirus @V2019N 13,831 confirmed cases in China (+2,102), 304 deaths (+46), 17,988 suspected cases (+5,019), 301 cured cases (+72), 140 confirmed cases in other countries (+39), #CoronavirusOutbreak #Coronaphobia #WuhanCoronavirus #武汉疫情 #武汉 #2019nCoV'],\n",
       " ['Thx!!! That looks good, followed'],\n",
       " ['Yes, but possible ≠ common or dominant mode of transmission. Agree contact vs droplet important to sort out.'],\n",
       " [\"I'm not sure if they've been running fecal matter tests on every patient, but the virus has been detecting in the tests they have run. Obviously care should be taken to isolate patients who are asymptomatic, but could potentially spread the virus!\"],\n",
       " [\"That's correct - the first known case of #2019nCoV in Massachusetts.\"],\n",
       " ['This is a supply chain miscalculation based on potential risks vs. potential profits. Single point of failures are the downfall for many businesses dependent on one entity for success. Case closed.'],\n",
       " ['Wonder if we need to be testing more of patients in the acute phase of infection to understand if it might also be a reliable indicator?'],\n",
       " ['Try this @V2019N'],\n",
       " ['Indeed. But how? That’s the curious thing. Could these things be important &amp; even ? We need to do more studies to understand where &amp; when the virus is replicating &amp; when, where &amp; how it’s shed'],\n",
       " ['Check the fecal - it shows positive if it truly is. The other tests do not work as well according to NEJM with the first US case in WA.'],\n",
       " ['Amazon has been out of N95 masks for a week.'],\n",
       " ['What public preparations are individual hospitals/governments implementing now?'],\n",
       " ['Do you think it’s still containable? I’m beginning to have my doubts'],\n",
       " [\"The current WaPo major article on the spread lists no cases at all from Africa. Almost certainly a testing / reporting / public health / poverty problem. There are loads of Chinese workers in Africa, B&R... I've read that Africa may be the most vulnerable area.\"],\n",
       " ['thread on how the #US should be preparing for a #pandemic #2019nCoV #coronaviruschina'],\n",
       " ['1st recorded case.'],\n",
       " ['What about China’s misinformation?'],\n",
       " ['Apparently the only consistently positive test throughout the course of illness has been a nasal swab. Is there a reason the virus would be picked up easier with that test as opposed to other tests? #2019_nCov'],\n",
       " ['Its already confirmed that asymptomatic people can spread the virus'],\n",
       " [' '],\n",
       " ['I think Israel Health minister put it best today when instigating their travel bans today : “We believe it is impossible to prevent the virus from making it to Israel, but we’re trying to delay it as much as possible...When it does happen, we will know how to handle it”'],\n",
       " ['Its clear there is some limited evidence from recent (relatively minor) outbreaks against. Its also clear in the only true pandemic model we have (1918) that delaying spread & contact had real value, resulting in many saved lives, backed up by similar pandemic modelling.'],\n",
       " ['Maybe understanding why would be helpful'],\n",
       " ['‘I’m healthy and in the prime of my life so what do I care?” You sound nice.'],\n",
       " ['#US #NYC officials testing suspected #coronavirus patient - @business'],\n",
       " ['some students take paracetamol before check in or check out at airport pls aware @V2019N @MoHFW_INDIA indian govt share info bcz my nation be safe ,be fit'],\n",
       " ['some students take paracetamol before check in or check out at airport pls aware @V2019N @MoHFW_INDIA indian govt share info bcz my nation be safe ,be fit'],\n",
       " ['Except that is not what happened.'],\n",
       " ['Those exponential growth curves assume no interventions, though.'],\n",
       " ['Sorry, I am a bit lost here... What is that about? What are those recommendations about? I am following the numbers and I do not see reasons to panic.'],\n",
       " ['Well, this model run assumes continued exponential growth. Epidemiological interventions can quash the infection rate pretty substantially.'],\n",
       " [''],\n",
       " ['Deeper look: The 2019-nCoV infection caused clusters of severe respiratory illness similar to severe acute respiratory syndrome and was associated with ICU admission and high mortality. https://www.thelancet.com/journals/lancet/article/PIIS0140-6736(20)30183-5/fulltext#%20 #coronarvirus #CoronavirusOutbreak @V2019N'],\n",
       " ['Given that there are not that many mutations, I go with that it has been like that from the start.'],\n",
       " ['Yet, there is also gossip that the death counts are not properly updated for political reasons. But yeah, gossip '],\n",
       " ['Shoot I think they knew about the virus in December!'],\n",
       " ['This is old news'],\n",
       " ['“Projecting optimism and confidence, if you don’t have the data, is a very dangerous strategy. It undermines the legitimacy of the government in messaging. And #publichealth is dependent on public trust.” -@alexandraphelan #coronavirus #2019nCoV #Wuhan'],\n",
       " ['In the early weeks of the epidemic \"... authorities silenced doctors & others for raising red flags. They played down the dangers to the public, leaving the city’s 11 million residents unaware they should protect themselves.\" #China #coronavirus #2019nCoV https://www.nytimes.com/2020/02/01/world/asia/china-coronavirus.html'],\n",
       " ['The earth will eventually throw something at us that will shake us like a bad case of flees, however, I don’t think this is it'],\n",
       " ['Add a zero'],\n",
       " [\"Admittingly, I haven't followed this But, even if info is public, social media Co skxers it doxxing by posting. Their call.\"],\n",
       " ['Soooo. Posting information that is public and possible true. They never stated it was him. They asked the question, could it be?'],\n",
       " [''],\n",
       " ['What does #Coronavirus and #HIV have in common? Parents'],\n",
       " ['Just buy into the hysteria the media panders to you. If it’s numbers you want, tell me why we aren’t talking about this? Just like mad cow disease, or avian flu, this is just something to help ratings. You’re more likely to die from the flu.'],\n",
       " [\"Doxxing isn't necessarily about finding unknown details. It's about posting those details.\"],\n",
       " [\"It's called #nCorV2019\"],\n",
       " [\"There's also zero heard immunity to it or a strand of vaccinations.\"],\n",
       " ['What happened to this plan?'],\n",
       " ['Most would agree that it’s about the ‘lack of transparency, accountability and trust of the Communist Party’. But seasonal flu is @V2019N , is 2-3% - this makes it similar to the 1918 Spanish Flu pandemic. '],\n",
       " ['Very little reliable information so far about infected health care workers. This is troubling.'],\n",
       " ['I assumes this mean the data will necessarily overstate mortality risk, if many people who have it but don’t have serious symptoms are not tested.'],\n",
       " ['New same as yesterday is it all good or everyone died and can’t report'],\n",
       " ['It is important to have reliable and fast diagnostic tests available in an early phase of an outbreak. The European In Vitro Diagnostic Regulations (IVDR) should not obstruct the local laboratories to develop and use their \"home made\" tests.'],\n",
       " ['This is really fascinating to me. I don’t know anything about it, but wondered if looking at sudden increase in train/plane tickets could be a key, or satellite imagery looking at things like road blocks, etc. even looking at increase of key word searches on Google/twitter.'],\n",
       " ['They are just sealing homes with people suspected of having been infected by the virus, they also seem to be removing victims.'],\n",
       " ['Don’t even know how to describe China’s actions ... Feast in Time of Plague ?'],\n",
       " ['Interesting how America and Canada seem to down play the situation! Personally next ten days will show the truth and extent in North America! If the cases increase then we are all in for a very tough ride'],\n",
       " ['its not the same thing dude, if the numbers of corona become the same as the flu everything will be paralyzed as lot more people go trough serious conditions'],\n",
       " ['The most comprehensive piece to date on what went wrong in #China and what continues to go wrong with #coronavirus. Worth the @washingtonpost subscription imo. https://www.washingtonpost.com/world/2020/02/01/early-missteps-state-secrecy-china-likely-allowed-coronavirus-spread-farther-faster/'],\n",
       " ['I completely agree with this interpretation'],\n",
       " [\"From @washingtonpost @bylenasun From 1/11 to 1/17 ... Wuhan Health Commission claimed no new infections or deaths. Officials downplayed risk of human-to-human transmission. Without gov't warnings, people kept traveling within &amp; beyond #China #2019nCoV\"],\n",
       " ['The @NEJM study -first 425 patients in Wuhan who became sick between Dec. 10 and Jan. 4. -long delays for patients to get admitted to hospitals. Person-to-person spread occurred as early as mid-December, &amp; cases were doubling every 7 days. #2019nCoV https://www.washingtonpost.com/world/2020/02/01/early-missteps-state-secrecy-china-likely-allowed-coronavirus-spread-farther-faster/'],\n",
       " ['\"While scientists and public health experts scrambled to collect more information, China’s security services tried to smother it.\" Critical read on #coronavirus https://www.washingtonpost.com/world/2020/02/01/early-missteps-state-secrecy-china-likely-allowed-coronavirus-spread-farther-faster/'],\n",
       " [\"Researchers at Shenzhen Third People's Hospital: Fecal-to-mouth (fecal-oral) transmission risk of new #coronavirus Research found that #2019nCoV was positive in the stool of confirmed cases h/t @yan__shao http://www.xinhuanet.com/politics/2020-02/02/c_1125520498.htm\"],\n",
       " [\"I haven't really heard very much about the flu in China. Doesn't China have a flu season just like we do? Aren't people dying from the flu in China just like here? Are patients with the flu making it harder to identify patients with nCoV? Lots of flu/nCoV related questions.\"],\n",
       " [\"also detected in a Shenzhen patient's feces today http://www.xinhuanet.com/politics/2020-02/02/c_1125520498.htm\"],\n",
       " ['As others have suggested, a watermark on every page would be even better.'],\n",
       " ['Risk assesment #EU @ECDC_EU @ECDC_Outbreaks #coronavirus https://www.ecdc.europa.eu/en/novel-coronavirus-china'],\n",
       " ['@AirCanada also suspended flights to Beijing and Shanghai #coronarvirus'],\n",
       " [\"You're welcome.\"],\n",
       " ['Great. Thanks for correction and update.'],\n",
       " ['It may not keep you from getting corona virus, but imagine having the flu while this is going around...'],\n",
       " [\"Sorry but Ethiopia, Kenya and Ivory Coast have had negative test results so they haven't got any suspected case at the moment.\"],\n",
       " ['@V2019N'],\n",
       " ['\"It is not enough to enact emergency spending measures in the middle of an outbreak -- we need consistent, robust leadership around these issues before the next crisis hits.\" #coronavirus'],\n",
       " ['fip and the others'],\n",
       " ['For those interested in following Influenza, a different, incomparable virus genus: FluView Interactive https://www.cdc.gov/flu/weekly/overview.htm'],\n",
       " ['#Brazil: 13 suspected #coronavirus cases are being monitored by the Ministry of Health in the following states: Ceará (1), Minas Gerais (1), Paraná (1), Rio Grande do Sul (2), Santa Catarina (1) and São Paulo (7). Updates: http://plataforma.saude.gov.br/novocoronavirus/'],\n",
       " ['like in the cats?'],\n",
       " ['UAE Ministry of Health just announced another #coronavirus #2019nCoV case, patient traveled from Wuhan'],\n",
       " ['We have ice storms which knocks out our power out for 2 to 4 days. I feel for you.'],\n",
       " [''],\n",
       " [\"but if you get a flu shot now, your immune system will be busy reacting for a few weeks. What if you contract nCoV in that time period - doesn't seem ideal\"],\n",
       " ['First US Case Report'],\n",
       " ['I still made it in time for #SuperBowLIV all the way from #wuhan.'],\n",
       " ['Good bleeping luck with that last. You’re new around here, aren’t you?'],\n",
       " [\"Of course getting a flu shot won't protect you from #coronavirus but may help keep you out of stretched health facilities, &amp; away from sick people who may have coronavirus. More here.\"],\n",
       " ['No more @V2019N and #OUSTLENI2020']]"
      ]
     },
     "execution_count": 4,
     "metadata": {},
     "output_type": "execute_result"
    }
   ],
   "source": [
    "text_tweets"
   ]
  },
  {
   "cell_type": "code",
   "execution_count": 5,
   "metadata": {},
   "outputs": [
    {
     "name": "stderr",
     "output_type": "stream",
     "text": [
      "[nltk_data] Downloading package stopwords to\n",
      "[nltk_data]     C:\\Users\\91986\\AppData\\Roaming\\nltk_data...\n",
      "[nltk_data]   Package stopwords is already up-to-date!\n"
     ]
    }
   ],
   "source": [
    "import nltk\n",
    "nltk.download('stopwords')\n",
    "from nltk.corpus import stopwords\n",
    "stopwords_list = stopwords.words('english')"
   ]
  },
  {
   "cell_type": "code",
   "execution_count": 6,
   "metadata": {},
   "outputs": [
    {
     "data": {
      "text/plain": [
       "['i',\n",
       " 'me',\n",
       " 'my',\n",
       " 'myself',\n",
       " 'we',\n",
       " 'our',\n",
       " 'ours',\n",
       " 'ourselves',\n",
       " 'you',\n",
       " \"you're\",\n",
       " \"you've\",\n",
       " \"you'll\",\n",
       " \"you'd\",\n",
       " 'your',\n",
       " 'yours',\n",
       " 'yourself',\n",
       " 'yourselves',\n",
       " 'he',\n",
       " 'him',\n",
       " 'his',\n",
       " 'himself',\n",
       " 'she',\n",
       " \"she's\",\n",
       " 'her',\n",
       " 'hers',\n",
       " 'herself',\n",
       " 'it',\n",
       " \"it's\",\n",
       " 'its',\n",
       " 'itself',\n",
       " 'they',\n",
       " 'them',\n",
       " 'their',\n",
       " 'theirs',\n",
       " 'themselves',\n",
       " 'what',\n",
       " 'which',\n",
       " 'who',\n",
       " 'whom',\n",
       " 'this',\n",
       " 'that',\n",
       " \"that'll\",\n",
       " 'these',\n",
       " 'those',\n",
       " 'am',\n",
       " 'is',\n",
       " 'are',\n",
       " 'was',\n",
       " 'were',\n",
       " 'be',\n",
       " 'been',\n",
       " 'being',\n",
       " 'have',\n",
       " 'has',\n",
       " 'had',\n",
       " 'having',\n",
       " 'do',\n",
       " 'does',\n",
       " 'did',\n",
       " 'doing',\n",
       " 'a',\n",
       " 'an',\n",
       " 'the',\n",
       " 'and',\n",
       " 'but',\n",
       " 'if',\n",
       " 'or',\n",
       " 'because',\n",
       " 'as',\n",
       " 'until',\n",
       " 'while',\n",
       " 'of',\n",
       " 'at',\n",
       " 'by',\n",
       " 'for',\n",
       " 'with',\n",
       " 'about',\n",
       " 'against',\n",
       " 'between',\n",
       " 'into',\n",
       " 'through',\n",
       " 'during',\n",
       " 'before',\n",
       " 'after',\n",
       " 'above',\n",
       " 'below',\n",
       " 'to',\n",
       " 'from',\n",
       " 'up',\n",
       " 'down',\n",
       " 'in',\n",
       " 'out',\n",
       " 'on',\n",
       " 'off',\n",
       " 'over',\n",
       " 'under',\n",
       " 'again',\n",
       " 'further',\n",
       " 'then',\n",
       " 'once',\n",
       " 'here',\n",
       " 'there',\n",
       " 'when',\n",
       " 'where',\n",
       " 'why',\n",
       " 'how',\n",
       " 'all',\n",
       " 'any',\n",
       " 'both',\n",
       " 'each',\n",
       " 'few',\n",
       " 'more',\n",
       " 'most',\n",
       " 'other',\n",
       " 'some',\n",
       " 'such',\n",
       " 'no',\n",
       " 'nor',\n",
       " 'not',\n",
       " 'only',\n",
       " 'own',\n",
       " 'same',\n",
       " 'so',\n",
       " 'than',\n",
       " 'too',\n",
       " 'very',\n",
       " 's',\n",
       " 't',\n",
       " 'can',\n",
       " 'will',\n",
       " 'just',\n",
       " 'don',\n",
       " \"don't\",\n",
       " 'should',\n",
       " \"should've\",\n",
       " 'now',\n",
       " 'd',\n",
       " 'll',\n",
       " 'm',\n",
       " 'o',\n",
       " 're',\n",
       " 've',\n",
       " 'y',\n",
       " 'ain',\n",
       " 'aren',\n",
       " \"aren't\",\n",
       " 'couldn',\n",
       " \"couldn't\",\n",
       " 'didn',\n",
       " \"didn't\",\n",
       " 'doesn',\n",
       " \"doesn't\",\n",
       " 'hadn',\n",
       " \"hadn't\",\n",
       " 'hasn',\n",
       " \"hasn't\",\n",
       " 'haven',\n",
       " \"haven't\",\n",
       " 'isn',\n",
       " \"isn't\",\n",
       " 'ma',\n",
       " 'mightn',\n",
       " \"mightn't\",\n",
       " 'mustn',\n",
       " \"mustn't\",\n",
       " 'needn',\n",
       " \"needn't\",\n",
       " 'shan',\n",
       " \"shan't\",\n",
       " 'shouldn',\n",
       " \"shouldn't\",\n",
       " 'wasn',\n",
       " \"wasn't\",\n",
       " 'weren',\n",
       " \"weren't\",\n",
       " 'won',\n",
       " \"won't\",\n",
       " 'wouldn',\n",
       " \"wouldn't\"]"
      ]
     },
     "execution_count": 6,
     "metadata": {},
     "output_type": "execute_result"
    }
   ],
   "source": [
    "stopwords_list"
   ]
  },
  {
   "cell_type": "code",
   "execution_count": 7,
   "metadata": {},
   "outputs": [],
   "source": [
    "final_words = [word for word in tokenized_words if word not in stopwords_list]"
   ]
  },
  {
   "cell_type": "code",
   "execution_count": 8,
   "metadata": {},
   "outputs": [
    {
     "name": "stdout",
     "output_type": "stream",
     "text": [
      "Counter({' attracted': 2, ' happy': 2, ' average': 1, ' entitled': 1, ' lost': 1, ' angry': 1, ' powerless': 1})\n"
     ]
    }
   ],
   "source": [
    "emotion_list = []\n",
    "with open ('C:/Users/91986/Desktop/Data_Science_DataTrained/NLP/emotions.txt','r') as file:\n",
    "    for line in file:\n",
    "        clear_line = line.replace('\\n','').replace(',','').replace(\"'\",'').strip()\n",
    "        word, emotion = clear_line.split(':')\n",
    "        if word in final_words:\n",
    "            emotion_list.append(emotion)\n",
    "\n",
    "w = Counter(emotion_list)\n",
    "print(w)"
   ]
  },
  {
   "cell_type": "code",
   "execution_count": 9,
   "metadata": {},
   "outputs": [
    {
     "data": {
      "image/png": "[encoded data removed]",
      "text/plain": [
       "<Figure size 432x288 with 1 Axes>"
      ]
     },
     "metadata": {
      "needs_background": "light"
     },
     "output_type": "display_data"
    }
   ],
   "source": [
    "fig, ax1 = plt.subplots()\n",
    "ax1.bar(w.keys(), w.values())\n",
    "fig.autofmt_xdate()\n",
    "plt.savefig('graph.png')\n",
    "plt.show()"
   ]
  },
  {
   "cell_type": "markdown",
   "metadata": {},
   "source": [
    "# AFTER OUTBREAK IN INDIA FROM 01 JUN TO 02 JUL 2020"
   ]
  },
  {
   "cell_type": "code",
   "execution_count": 10,
   "metadata": {},
   "outputs": [],
   "source": [
    "def get_tweets():\n",
    "    tweetCriteria = got.manager.TweetCriteria().setQuerySearch('COVID-19') \\\n",
    "        .setSince(\"2020-06-01\") \\\n",
    "        .setUntil(\"2020-07-02\") \\\n",
    "        .setMaxTweets(100)\n",
    "        \n",
    "    tweets = got.manager.TweetManager.getTweets(tweetCriteria)\n",
    "        \n",
    "    text_tweets = [[tweet.text] for tweet in tweets]\n",
    "    return text_tweets"
   ]
  },
  {
   "cell_type": "code",
   "execution_count": 11,
   "metadata": {},
   "outputs": [],
   "source": [
    "text = \"\"\n",
    "text_tweets = get_tweets()\n",
    "\n",
    "lenght = len(text_tweets)\n",
    "\n",
    "for i in range(0, lenght):\n",
    "    text = text_tweets[i][0] + \" \" + text\n",
    "    \n",
    "lower_case = text.lower()\n",
    "\n",
    "cleaned_text = lower_case.translate(str.maketrans('','',string.punctuation))\n",
    "\n",
    "tokenized_words = cleaned_text.split()"
   ]
  },
  {
   "cell_type": "code",
   "execution_count": 12,
   "metadata": {},
   "outputs": [
    {
     "data": {
      "text/plain": [
       "[['14 OU Football Players, 2 Staff Members Test Positive For COVID-19 via News 9 '],\n",
       " ['Rising COVID-19 Cases Threaten Economic Recovery, Refi Apps Down &amp; More | Real Estate Rundown https://bit.ly/2YPru0N #realestatenews #realestaterundown #titleindustry #covid19 #economy'],\n",
       " ['Doing the right thing, by implementing appropriate COVID-19 safety protocols, is a crucial first step. But you can’t stop there. Front-line managers must be trained on those protocols. So, you think you’ve got this? Think again. Let us help- '],\n",
       " ['Office Space & Amenities Post COVID-19 #CRE #COVID-19 #NewNormal #Office #Amenities #TenantTips #OfficeSpace'],\n",
       " ['Top 3 sucesos mundiales: 3. Covid-19 2. Messi chikito 1. #EDNLastDomination'],\n",
       " [\"It might, if Trump hadn't blown the deficit to Pluto and back a million times!! And that's not including the cares act/covid19 costs!!!\"],\n",
       " ['Blog is posted! Read about my awesome and shocking experience amidst COVID-19. https://www.instagram.com/p/CCHYz0EJB76/?igshid=xqmb67dufye2'],\n",
       " ['Op-Ed: How film and television production can safely resume in a COVID-19 world '],\n",
       " ['Recuerda que la Ordenanza 010-2020 establece el uso obligatorio y adecuado de mascarilla en el #EspacioPúblico, para preservar tu salud, mitigando el contagio y propagación del #Covid-19. ¡Evita sanciones! #NoTeRelajes #DisciplinaParaVolver'],\n",
       " ['does anybody remember when @realDonaldTrump said covid19 would be gone by April? I do. Turns out April was the most deadly month of the virus. It also happens that now, in July, we are seeing more cases than ever. What happened trumpy? #COVIDー19 #TrumpKnewAndDidNothing'],\n",
       " ['@cnn I couldn’t help but notice that covid-19 spread like crazy in the US after you stopped covering it for about a month. No wonder so many people thought it was over!'],\n",
       " ['SHARING IS CARING #pmrdungun #watlakerdoh #cmstu #jptu #jabatanpenerangan #covid19 #prayformalaysia #protectyourselfandyourfamily #sayangimalaysiaku #tidakpastijangankongsi #kitajagakita #kitateguhkitamenang'],\n",
       " ['Washington reports 35 new cases bringing total confirmed cases there to 34,465 and 1,332 total deaths, with 577 new cases reported today. #CoronaVirus #Covid19 #CoronaVirusOutbreak'],\n",
       " ['UIL wants all schools to suspend their summer workouts due to the statewide increase in COVID-19 cases: '],\n",
       " ['Watch #Mohammadshaikh #ServantOfAllah #TheQuranMan Short clips from FAQ English Do not the Chiefs &amp; Great ones, misguide people from the path of Allah/God? https://www.youtube.com/watch?v=70XDrOTqtBs ADAN by #Mohammeadshaikh https://www.facebook.com/173884354963/posts/10151272476444964/ #CORONA #VIRUS #COVID19 '],\n",
       " ['\"We know that wearing a mask outside health care facilities offers little, if any, protection from infection.\" \"The chance of catching Covid-19 from a passing interaction in a public space is therefore minimal. In many cases, the desire for widespread masking is a reflexive'],\n",
       " ['#Estatal || En Morelos de las 692 personas que han fallecido por #Covid-19,516 tenían diagnóstico de enfermedades graves como hipertensión, diabetes, tabaquismo #NoticiasDeCuautla #InformaciónRealAlMomento '],\n",
       " ['Gold Rate Surges To Record High As Coronavirus COVID-19 Cases Rise https://everydaynewsupdate.com/gold-charge-surges-to-document-excessive-as-coronavirus-covid-19-circumstances-rise/'],\n",
       " ['Democrats are pushing #COVID19 again because they are trying to shut down the economy and the capitalist system and impose their #Socialist/#Communist agenda on all of us. VOTE REPUBLICAN!'],\n",
       " ['I subject people to COVID-19 jokes taking risks wanting laughs even if they spew virus cells at me. Maybe we need a racial slur for the new virus not Corona or Covid preparing for its mutations. I must call for boos for everyone investing in PPE wanting it forced to clean up.'],\n",
       " ['Hadirlah ikhwan akhwat. Yg sehat yg kuat yg sempat tentunya. Terapkan protokol covid 19 dng ketat, dng cara pake masker dan jaga jarak. In syaa Alloh jadi jihad fii sabillillah bagi anda semua. Aamiin'],\n",
       " ['Twelve more Covid-19 cases in Guam '],\n",
       " ['Stop making COVID-19 political. '],\n",
       " [' #ÚltimaHora Casos de COVID-19 en Panamá, por provincias y comarcas, hasta hoy miércoles, fuente: Minsa #QuédateEnCasa #Nacionales'],\n",
       " ['When in Doubt, SEC Wants You to Consider COVID-19 Disclosures '],\n",
       " ['Peran media selayaknya melakukan edukasi dan sosialisasi. Dalam pemberitaannya selaku menyampaikan hal yang sangat penting untuk diketahui masyarakat agar bebas dari Covid-19, dan menjalani new normal dengan… https://www.instagram.com/p/CCHmjbYAV0I/?igshid=1rrl39gon6q9m'],\n",
       " ['Fewer people died in CHOP than trump has killed with his bungled COVID -19 response. And his botch-a-rama continues.'],\n",
       " ['Transmisión #envivo del Informe diario de la @SSalud_mx por la enfermedad #Covid_19 en #México 01 de julio de 2020:'],\n",
       " ['Mortes por Covid-19 na sauna gay caem 12,4 cm em comparação com a última quarta-feira '],\n",
       " [\"'Crisis, what crisis?' Combet quits COVID-19 commission https://www.smh.com.au/national/crisis-what-crisis-combet-quits-covid-19-commission-20200701-p5585w.html via @smh\"],\n",
       " ['Their Loved Ones Died Of COVID-19. They May Never Recover Their Bodies. https://www.buzzfeednews.com/article/karlazabludovsky/guayaquil-ecuador-coronavirus-missing-bodies via @karlazabs'],\n",
       " ['En apoyo al sector artesanal durante esta contingencia por #COVID19, el @gobiernohidalgo te invita a participar en la siguiente convocatoria. ¡Consulta las bases! http://sedeso.hidalgo.gob.mx/convocatorias/ConvocatoriaApoyosArtesanos.pdf'],\n",
       " ['The pharmaceutical industry is now “more hated than COVID-19,” Gov. Tim Walz said today as he ripped corporate drug giants for trying to stop a new Minnesota law requiring them to deliver insulin at little or no cost in emergency cases. '],\n",
       " ['This Covid-19 Rapid Self testing kit less than N6000 can do. Test na test jare https://twitter.com/Tutsy22/status/1278280366147633152'],\n",
       " ['He needs to pick his exit strategy. Fail on COVID19? Fail on justice reform? Fail on russian bounties? Fail on racism? Fail on healthcare? Fail on wall? Fail on tax returns? Fail on trade? Fail middle east? Fail on Mueller report? Pick a ditch.'],\n",
       " ['Smrt od COVID-19 ne može se pripisati drugoj bolesti '],\n",
       " ['what is twitter in 2020? my responses: a place where you find out someone died from covid-19 a place where you find out who lost his/her writing job a place where you find out someone suffering from cancer a place where the right and the left cant meet in the middle'],\n",
       " ['Beijing shows coronavirus second wave need not be a disaster https://www.scmp.com/comment/opinion/article/3091232/chinas-experience-shows-coronavirus-second-wave-need-not-be?utm_source=Twitter&amp;utm_medium=share_widget&amp;utm_campaign=3091232 via @scmpnews #Covid_19 #COVIDー19'],\n",
       " ['#ComradeTrump #KTH1iscoming #TachaTitansIsOneYear #Fiverr #COVID19 #DonaldTrump'],\n",
       " ['Por el #DíaDelPescadorEC el viceministro de Acuacultura y Pesca, @andresarens junto a @LaFENACOPEC, realizaron el lanzamiento de cruces sobre el agua en homenaje a los 137 pescadores fallecidos por el covid_19 y se reconoció la labor de los pescadores artesanales del país. '],\n",
       " ['Every one of those people who claim \"My body. My Choice.\" should be forced to PAY THEIR OWN MEDICAL BILLS if they contract COVID-19 and face legal liability to anyone to whom they pass the virus. We should NOT have to pay higher insurance premiums because of their infantile acts!'],\n",
       " ['He only doesn’t care bc he has healthcare that their taxes pay for. He’ll survive even if every last nana, pop pop, pappy, and meemaw gets mowed down by Covid-19. They kindly sacrificed the healthcare that their taxes should’ve paid for so he has no high risk conditions.'],\n",
       " [' De acuerdo con el reporte de este miércoles, @SesaTlax confirmó 64 casos positivos más y 2 fallecimientos de #Covid_19 en #Tlaxcala.'],\n",
       " ['SHARING IS CARING #pmrdungun #watlakerdoh #cmstu #jptu #jabatanpenerangan #covid19 #prayformalaysia #protectyourselfandyourfamily #sayangimalaysiaku #tidakpastijangankongsi #kitajagakita #kitateguhkitamenang'],\n",
       " ['#QuédateEnCasa Comunidad indígena de Brasil aterrada por el COVID-19 https://www.noticias24mundo.com/comunidad-indigena-de-brasil-aterrado-por-el-covid-19/'],\n",
       " ['Mortes por Covid-19 no Brasil caem 12,4% em comparação com a última quarta-feira '],\n",
       " ['Seguimos en #cuarentena el #coronavirus #Covid_19 no ha pasado, pero muchas cosas se fortalecen. La comunicación y la información retoman liderato en la pandemia - Blogs El Tiempo https://bit.ly/2BR8Cpj vía @eltiempoblogs'],\n",
       " ['¡La fe todo lo puede! Estamos muy contentos de recibir nuevamente a nuestros Guerreros del Equipo Solidaridad que gracias a Dios vencieron al COVID-19. #UnidosHayEsperanza '],\n",
       " ['ロシアでアビガン後発薬がCOVID-19治療薬として承認 ロシアのアビガン後発薬【アビファビル】臨床試験の中間データで薬の有効性は80パーセント インドがコロナ感染者に対してファビピラビル(アビガン)を条件付きで承認 アメリカは？日本は？ #favipiravir#アビガン#Avigan'],\n",
       " ['Nigeria Declares 790 New Cases of COVID-19, Total Now 26,484 #COVID19 #Nigeria #26484 https://www.primestarnews.com/nigeria-declare-790-new-cases-of-covid-19-total-now-26484/ via @stylodee'],\n",
       " ['#Coronavirus Estos denominados Puntos COVID-19 serán instalados de forma progresiva en los hospitales del primer nivel de atención en Lima y Callao '],\n",
       " [\"For 'Time traveller for hole', Sasha Grbich and Kelly Reynolds have harnessed the restrictions and limitations resulting from Covid-19 to reassess, reinvent, and re-imagine their practice. @ABarnabyMS https://artguide.com.au/sasha-grbich-and-kelly-reynolds-use-art-to-time-travel\"],\n",
       " ['Informar o nº de novos casos e mortes por dia, por semana ou por mês transmite com mais exatidão o aumento ou diminuição do contágio. Com base apenas no total, o gráfico nunca vai descer. Destacar recuperados é minimizar a gravidade da pandemia. #covid19 #coronavírus'],\n",
       " ['We wouldn’t have freedom without the Revolutionary War. Without those considered “radicals” fighting against a tyrant king. Remember that. The 4th of July will be very different this year for many Americans due to COVID-19 '],\n",
       " ['レジ袋がゴミになる問題は10年以上前から言われていたのに、ここへ来て急に動いたのは変だなと思った。しかもCOVID19真っ盛りの今年。 所で、レジ袋の原料は、石油の他に使い道がない部分だと聞いた事があったけど、あの話はさっぱり聞かなくなった気がする。'],\n",
       " ['Conducting the People’s business is essential work that, like many things, has been modified due to the pandemic. Today, the Senate Rules Committee, Sec. of the Senate, and staff tested new technology to help us serve California safely during these unprecedented times. #COVID19 '],\n",
       " ['Fact Check: False. Remdesivir was invented by the pharmaceutical company Gilead Sciences, which receives any profit from sales of the drug as a treatment for COVID-19, not Dr. Fauci. '],\n",
       " ['What a cracking outlook and please feedback well earned praise to your time and happy to post of formal testimonial to the big bosses. Thanks to all the security leads and teams helping us all navigate #covid19 recovery safely and securely '],\n",
       " ['No hubo respuesta al covid-19 por @gobiernomx, hay una negligencia criminal que le ha costado 28 mil muertos (numeros oficiales) a México. Solo por eso @lopezobrador_ debe ser procesado en La Haya #Genocida #NadaQueCelebrar'],\n",
       " ['SHARING IS CARING #pmrdungun #watlakerdoh #cmstu #jptu #jabatanpenerangan #covid19 #prayformalaysia #protectyourselfandyourfamily #sayangimalaysiaku #tidakpastijangankongsi #kitajagakita #kitateguhkitamenang'],\n",
       " ['Tres nuevos decesos y 59 casos más de covid19 '],\n",
       " ['＜全世界＞ 感染者数：10,790,919 死者数：517,985 退院者数：5,929,053 更新：2020-7-2 08:53:14 ＜日本＞ 感染者数：18723 死者数：974 重症者数：40 退院者数：16731 更新：2020-7-2 08:53:14 #COVID19'],\n",
       " ['I’ve seen so many blaming the protests for the #COVID19 surge when the number actually started showing up at places where protests hadn’t happened at a scale of some other places where the surge didn’t happen '],\n",
       " ['Colombia supera los 100 mil casos de Covid-19 y registra 3.470 muertes https://www.lagrannoticia.com/destacados-de-hoy/51223-colombia-supera-los-100-mil-casos-de-covid-19-y-registra-3-470-muertes'],\n",
       " ['I’ll visit NYC again when COVID-19 is resolved and #DeBlasio and #AOC are eradicated from elected office. Could be awhile.'],\n",
       " [\"A judge closed a @McDonalds store that failed to disclose COVID-19 cases to workers. Add your name &gt;&gt; McDonald's MUST prioritize racial and economic justice as they reopen. \"],\n",
       " [' #ENVIVO | Tabasco cerca de los 11 mil casos de COVID-19 #Villahermosa #Tabasco'],\n",
       " [\"What's happening now with the guy ignoring Covid 19, and contracts for murdering US soldiers? Oh, and there's also the small thing of Americans not being able to pay basic bills, because of the guy who ignored the virus so people had to stay home, so they don't get sick.\"],\n",
       " ['Former Steelers head coach Bill Cowher and spouse tested positive for COVID-19 back in April '],\n",
       " ['Os atletas do União/CE que vão representar o Barbalha/CE nas 2 partidas que restam para o Clube no Campeonato Cearense passaram por testes de COVID-19 nesta quarta-feira, 1. Os exames foram patrocinados pela Federação Cearense de Futebol(FCF) e estarão disponíveis em 48 horas. '],\n",
       " [' #AlMomento | Conferencia diaria de la Secretaría de Salud, para actualizar panorama sobre #COVID19 en #México.'],\n",
       " ['#COVID19 '],\n",
       " ['#IowaVoter #VoteByMail #pandemic #VoterSuppression #Iowa #COVID19 #CorruptGOP'],\n",
       " ['Fox News is the reverse of CNN the weather well he pulled out of the Paris Accords whose main concern is the weather COVID-19 he abolished the org Obama set up to be ahead of infectious things now we have 25%'],\n",
       " ['COVID-19 lockdown reveals human impact on wildlife study by Max-Planck-Gesellschaft - https://www.indianbureaucracy.com/covid-19-lockdown-reveals-human-impact-on-wildlife-study-by-max-planck-gesellschaft/'],\n",
       " ['El sur de Estados Unidos con mucho contagio de COVID-19, en la zona de La Florida ha crecido y en Miami se ha notado mucho. En la isla de Key Biscayne aparecieron más de 100 casos.'],\n",
       " ['Y los médicos de donde los sacamos ? Una genio magico me los creerá espontáneamente ? Los médicos no son tan fáciles de encontrar sin contar la gran cantidad de medicos enfermos por @COVID_19 .'],\n",
       " ['The next #WellsFargo scandal will be over the mortgage forbearance related to #Covid19. Many people will likely lose their homes just in time for Christmas. We were just screwed by them and I am sure we are not alone.'],\n",
       " ['A groom has died and at least 80 guests have tested positive for COVID-19 after a wedding in eastern India '],\n",
       " ['Tarrant County broke the record for confirmed COVID-19 cases for the second day in a row. '],\n",
       " ['fuck covid-19 '],\n",
       " [\"Un peu de respect, svp ! Il est mieux placer pour dénoncer l'inefficacité du confinement, et la gestion hasardeuse de la prise en charge médicale de malades à covid-19. Le confinement ne se justifie plus aujourd'hui. Qu'on laisse les congolais aller travailler et prier \"],\n",
       " [\"Yea I'm sure thell come over next year....that is if our government ever sort out a proper plan for combating COVID-19 instead of just winging it \"],\n",
       " ['SHARING IS CARING #pmrdungun #watlakerdoh #cmstu #jptu #jabatanpenerangan #covid19 #prayformalaysia #protectyourselfandyourfamily #sayangimalaysiaku #tidakpastijangankongsi #kitajagakita #kitateguhkitamenang'],\n",
       " ['Minor tweaks and renamed. Why all the hoopla?Oh, that is right deflection from a COVID-19 negligence and ignoring the bounty on the heads of armed forces.b'],\n",
       " ['#LiveCRN Conferencia de prensa MSPAS - COPRECOVID para dar a conocer los resultados de la auditoría del COVID-19 en el país. '],\n",
       " [\"Warren County officials dispute governor's COVID-19 numbers https://youtu.be/z8oExHn7btg via @YouTube\"],\n",
       " ['Or every U.S. citizen from Covid-19 and bankruptcy. '],\n",
       " ['“Holocaust Survivors Continue Gathering—Online. A German-speaking group in New York has been meeting weekly since 1943. Even the COVID-19 pandemic couldn’t stop them.” https://www.tabletmag.com/sections/community/articles/stammtisch-survivors-zoom'],\n",
       " ['Covid-19 and the oil price slump in Africa: which countries will fare better? Continue reading at https://persecondnews.com/2020/07/02/covid-19-and-the-oil-price-slump-in-africa-which-countries-will-fare-better/ | Per Second News'],\n",
       " [\"Inside the Covid-19 era? You're not good \"],\n",
       " ['Nigeria records new highest daily figure of COVID-19 cases via 24liveblog '],\n",
       " [\"Our bad handling of COVID-19 &amp; the fact that it's due to many people (govt and public) not having their own or other's best interest at heart makes it easier to understand the conservative / republican mindset. That one might fight for ones' own. I say this as a leftist. 1/2\"],\n",
       " ['So lemme get this straight, you won’t wear a mask because you won’t be muzzled, but I can’t choose my reproductive rights because “If I don’t want babies I shouldn’t have sex” Ahem, let me present: if you don’t want COVID 19 or another lockdown, you shouldnt go out without a mask'],\n",
       " ['@RoyalCaribbean confirms #Windjammer buffet post #COVID19: “worked through... scenarios, from employee service to individual portions to individual tongs for self-service, to finger koozies that you can pick up hot dishes with that can be washed and sanitized.” #cruisenews'],\n",
       " ['Apple to reclose 30 more US stores amid COVID-19 case spike in seven states - '],\n",
       " ['ここ数日、首都圏近郊で徐々に増えていることが目に見えてわかります。COVID-19 Japan - 新型コロナウイルス対策ダッシュボード #StopCOVID19JP'],\n",
       " ['Almost a month ago there was a report of a worker at the Noe Whole Foods that tested positive for covid-19. I have heard nothing more about it, and I have been looking. As an aside, there are no longer lines to get into the Noe Whole Foods'],\n",
       " ['El Grupo temporal de Trabajo que preside el presidente cubano, @DiazCanelB, aprobó que La Habana entrará en la primera fase de la etapa de recuperación post COVID-19, a partir del viernes 3 de julio. '],\n",
       " ['You ordered patients with covid-19 back into assisted living centers. The bad leadership was you. ']]"
      ]
     },
     "execution_count": 12,
     "metadata": {},
     "output_type": "execute_result"
    }
   ],
   "source": [
    "text_tweets"
   ]
  },
  {
   "cell_type": "code",
   "execution_count": 13,
   "metadata": {},
   "outputs": [],
   "source": [
    "final_words = [word for word in tokenized_words if word not in stopwords_list]"
   ]
  },
  {
   "cell_type": "code",
   "execution_count": 14,
   "metadata": {},
   "outputs": [
    {
     "name": "stdout",
     "output_type": "stream",
     "text": [
      "Counter({' happy': 2, ' hated': 2, ' powerless': 1, ' lost': 1, ' attached': 1, ' sad': 1, ' alone': 1, ' loved': 1})\n"
     ]
    }
   ],
   "source": [
    "emotion_list = []\n",
    "with open ('C:/Users/91986/Desktop/Data_Science_DataTrained/NLP/emotions.txt','r') as file:\n",
    "    for line in file:\n",
    "        clear_line = line.replace('\\n','').replace(',','').replace(\"'\",'').strip()\n",
    "        word, emotion = clear_line.split(':')\n",
    "        if word in final_words:\n",
    "            emotion_list.append(emotion)\n",
    "\n",
    "w = Counter(emotion_list)\n",
    "print(w)"
   ]
  },
  {
   "cell_type": "code",
   "execution_count": 15,
   "metadata": {},
   "outputs": [
    {
     "data": {
      "image/png": "[encoded data removed]",
      "text/plain": [
       "<Figure size 432x288 with 1 Axes>"
      ]
     },
     "metadata": {
      "needs_background": "light"
     },
     "output_type": "display_data"
    }
   ],
   "source": [
    "fig, ax1 = plt.subplots()\n",
    "ax1.bar(w.keys(), w.values())\n",
    "fig.autofmt_xdate()\n",
    "plt.savefig('graph.png')\n",
    "plt.show()"
   ]
  },
  {
   "cell_type": "code",
   "execution_count": null,
   "metadata": {},
   "outputs": [],
   "source": []
  },
  {
   "cell_type": "code",
   "execution_count": 18,
   "metadata": {},
   "outputs": [],
   "source": [
    "from sklearn.feature_extraction.text import CountVectorizer\n",
    "\n",
    "import pandas as pd\n",
    "\n",
    "document_A = [\"Information Technology in India is an industry consisting of two major components: IT services and business process outsourcing in India.(BPO).The sector has increased its contribution to India's GDP from 1.2% in 1998 to 7.7% in 2017.According to NASSCOM, the sector aggregated revenues of US$180 billion in 2019,with export revenue standing at US$99 billion and domestic revenue at US$48 billion, growing by over 13%. As of 2020, India's IT workforce accounts for 4.36 million employees.The United States accounts for two-thirds of India's IT services exports.\"] "
   ]
  },
  {
   "cell_type": "code",
   "execution_count": 20,
   "metadata": {},
   "outputs": [
    {
     "name": "stdout",
     "output_type": "stream",
     "text": [
      "Bag of Words of Document A ['an', 'and', 'business', 'components', 'consisting', 'in', 'india', 'industry', 'information', 'is', 'it', 'major', 'of', 'outsourcing', 'process', 'services', 'technology', 'two']\n"
     ]
    }
   ],
   "source": [
    "vect1 = CountVectorizer()\n",
    "\n",
    "vect1.fit_transform(document_A)\n",
    "\n",
    "print(\"Bag of Words of Document A\",vect1.get_feature_names())"
   ]
  },
  {
   "cell_type": "code",
   "execution_count": 22,
   "metadata": {},
   "outputs": [
    {
     "data": {
      "text/plain": [
       "{'information': 8,\n",
       " 'technology': 16,\n",
       " 'in': 5,\n",
       " 'india': 6,\n",
       " 'is': 9,\n",
       " 'an': 0,\n",
       " 'industry': 7,\n",
       " 'consisting': 4,\n",
       " 'of': 12,\n",
       " 'two': 17,\n",
       " 'major': 11,\n",
       " 'components': 3,\n",
       " 'it': 10,\n",
       " 'services': 15,\n",
       " 'and': 1,\n",
       " 'business': 2,\n",
       " 'process': 14,\n",
       " 'outsourcing': 13}"
      ]
     },
     "execution_count": 22,
     "metadata": {},
     "output_type": "execute_result"
    }
   ],
   "source": [
    "vect1.vocabulary_"
   ]
  },
  {
   "cell_type": "code",
   "execution_count": 23,
   "metadata": {},
   "outputs": [
    {
     "data": {
      "text/plain": [
       "CountVectorizer(analyzer='word', binary=False, decode_error='strict',\n",
       "                dtype=<class 'numpy.int64'>, encoding='utf-8', input='content',\n",
       "                lowercase=True, max_df=1.0, max_features=None, min_df=1,\n",
       "                ngram_range=(1, 1), preprocessor=None, stop_words=None,\n",
       "                strip_accents=None, token_pattern='(?u)\\\\b\\\\w\\\\w+\\\\b',\n",
       "                tokenizer=None, vocabulary=None)"
      ]
     },
     "execution_count": 23,
     "metadata": {},
     "output_type": "execute_result"
    }
   ],
   "source": [
    "c_vect = CountVectorizer()\n",
    "c_vect.fit(document_A)"
   ]
  },
  {
   "cell_type": "code",
   "execution_count": 24,
   "metadata": {},
   "outputs": [],
   "source": [
    "document_B = [\"In the contemporary world economy, India is the largest exporter of IT. Exports dominate the Indian IT industry and constitute about 79% of the industry's total revenue. However, the domestic market is also significant, with robust revenue growth.The industry's share of total Indian exports (merchandise plus services) increased from less than 4% in FY1998 to about 25% in FY2012\"]"
   ]
  },
  {
   "cell_type": "code",
   "execution_count": 25,
   "metadata": {},
   "outputs": [
    {
     "name": "stdout",
     "output_type": "stream",
     "text": [
      "Text present at [[1 1 2 1 1 1 1 1 1 1 1 2 1 1 1 1 1 3 1 1 2 3 2 2 1 1 1 1 3 1 2 1 1 1 1 1\n",
      "  6 1 2 1 1]]\n",
      "Original Indexes ['an', 'and', 'business', 'components', 'consisting', 'in', 'india', 'industry', 'information', 'is', 'it', 'major', 'of', 'outsourcing', 'process', 'services', 'technology', 'two']\n"
     ]
    }
   ],
   "source": [
    "c_new_vect = c_vect.fit_transform(document_B)\n",
    "\n",
    "print(\"Text present at\",c_new_vect.toarray())\n",
    "\n",
    "print(\"Original Indexes\",vect1.get_feature_names())"
   ]
  }
 ],
 "metadata": {
  "kernelspec": {
   "display_name": "Python 3",
   "language": "python",
   "name": "python3"
  },
  "language_info": {
   "codemirror_mode": {
    "name": "ipython",
    "version": 3
   },
   "file_extension": ".py",
   "mimetype": "text/x-python",
   "name": "python",
   "nbconvert_exporter": "python",
   "pygments_lexer": "ipython3",
   "version": "3.7.4"
  }
 },
 "nbformat": 4,
 "nbformat_minor": 2
}
