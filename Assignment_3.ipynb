{
 "cells": [
  {
   "cell_type": "code",
   "execution_count": 3,
   "metadata": {},
   "outputs": [],
   "source": [
    "import numpy as np\n",
    "import matplotlib.pyplot as plt\n",
    "import os\n",
    "import cv2"
   ]
  },
  {
   "cell_type": "code",
   "execution_count": 4,
   "metadata": {},
   "outputs": [
    {
     "name": "stderr",
     "output_type": "stream",
     "text": [
      "Using TensorFlow backend.\n"
     ]
    }
   ],
   "source": [
    "import os\n",
    "import numpy as np\n",
    "from keras.models import Sequential\n",
    "from keras.layers import Activation, Dropout, Flatten, Dense\n",
    "from keras.preprocessing.image import ImageDataGenerator\n",
    "from keras.layers import Conv2D, MaxPooling2D , ZeroPadding2D\n",
    "from keras import optimizers\n",
    "import scipy\n",
    "import pylab as pl\n",
    "import matplotlib.cm as cm\n",
    "%matplotlib inline"
   ]
  },
  {
   "cell_type": "code",
   "execution_count": 5,
   "metadata": {},
   "outputs": [],
   "source": [
    "input_shape =[150,150,3]\n",
    "img_width = 150\n",
    "img_height = 150\n",
    "batch_size=16"
   ]
  },
  {
   "cell_type": "code",
   "execution_count": 6,
   "metadata": {},
   "outputs": [],
   "source": [
    "train_data_dir = 'E:/Data_Trained_Deep_Learning/Assignment_3_Flipcart/Train'\n",
    "validation_data_dir = 'E:/Data_Trained_Deep_Learning/Assignment_3_Flipcart/Validation'"
   ]
  },
  {
   "cell_type": "code",
   "execution_count": 7,
   "metadata": {},
   "outputs": [],
   "source": [
    "datagen = ImageDataGenerator(rescale=1./255)"
   ]
  },
  {
   "cell_type": "code",
   "execution_count": 8,
   "metadata": {},
   "outputs": [
    {
     "name": "stdout",
     "output_type": "stream",
     "text": [
      "Found 160 images belonging to 2 classes.\n"
     ]
    }
   ],
   "source": [
    "train_generator = datagen.flow_from_directory(\n",
    "        train_data_dir,\n",
    "        target_size=[img_width,img_height],\n",
    "        batch_size=16,\n",
    "        class_mode='binary')"
   ]
  },
  {
   "cell_type": "code",
   "execution_count": 9,
   "metadata": {},
   "outputs": [
    {
     "name": "stdout",
     "output_type": "stream",
     "text": [
      "Found 40 images belonging to 2 classes.\n"
     ]
    }
   ],
   "source": [
    "validation_generator = datagen.flow_from_directory(\n",
    "        validation_data_dir,\n",
    "        target_size=[img_width,img_height],\n",
    "        batch_size=16,\n",
    "        class_mode='binary')"
   ]
  },
  {
   "cell_type": "markdown",
   "metadata": {},
   "source": [
    "# Read the image"
   ]
  },
  {
   "cell_type": "code",
   "execution_count": null,
   "metadata": {},
   "outputs": [],
   "source": [
    "import cv2\n",
    "import numpy as np\n",
    "\n",
    "\n",
    "input = cv2.imread(\"Test_Image.jpeg\")\n",
    "cv2.imshow('Hello world',input)\n",
    "cv2.waitKey(0)\n",
    "cv2.destroyAllWindows()"
   ]
  },
  {
   "cell_type": "markdown",
   "metadata": {},
   "source": [
    "# Rotation"
   ]
  },
  {
   "cell_type": "code",
   "execution_count": null,
   "metadata": {},
   "outputs": [],
   "source": [
    "\n",
    "import cv2\n",
    "import numpy as np\n",
    "\n",
    "\n",
    "image = cv2.imread('Test_Image.jpeg')\n",
    "height , width= image.shape[:2]\n",
    "\n",
    "rotation_matrix_positive = cv2.getRotationMatrix2D((width/2, height/2), 30, .5)\n",
    "rotation_matrix_negative = cv2.getRotationMatrix2D((width/2, height/2), -30, .5)\n",
    "\n",
    "\n",
    "rotated_image = cv2.warpAffine(image, rotation_matrix_positive,(width,height))\n",
    "\n",
    "cv2.imshow('Rotated_Image_positive',rotated_image)\n",
    "cv2.waitKey(0)\n",
    "cv2.destroyAllWindows()\n",
    "\n",
    "rotated_image = cv2.warpAffine(image, rotation_matrix_negative,(width,height))\n",
    "\n",
    "cv2.imshow('Rotated_Image_negative',rotated_image)\n",
    "cv2.waitKey(0)\n",
    "cv2.destroyAllWindows()\n",
    "\n"
   ]
  },
  {
   "cell_type": "markdown",
   "metadata": {},
   "source": [
    "# Lets convert into Gray Scale"
   ]
  },
  {
   "cell_type": "code",
   "execution_count": null,
   "metadata": {
    "scrolled": true
   },
   "outputs": [],
   "source": [
    "import cv2\n",
    "import numpy as np\n",
    "\n",
    "\n",
    "image = cv2.imread('Test_Image.jpeg')\n",
    "cv2.imshow('Original_Image',image)\n",
    "cv2.waitKey(0)\n",
    "\n",
    "\n",
    "gray_image = cv2.cvtColor(image, cv2.COLOR_BGR2GRAY)\n",
    "cv2.imshow('Gray_Image',gray_image)\n",
    "cv2.waitKey(0)\n",
    "cv2.destroyAllWindows()\n",
    "\n"
   ]
  },
  {
   "cell_type": "markdown",
   "metadata": {},
   "source": [
    "# Sharpening"
   ]
  },
  {
   "cell_type": "code",
   "execution_count": null,
   "metadata": {},
   "outputs": [],
   "source": [
    "import cv2\n",
    "import numpy as np\n",
    "\n",
    "\n",
    "image = cv2.imread('Test_Image.jpeg')\n",
    "cv2.imshow('Original_Image',image)\n",
    "\n",
    "\n",
    "kernel_shaprpening = np.array([[-1,-1,-1],\n",
    "                               [-1,10,-1],\n",
    "                               [-1,-1,-1]])\n",
    "\n",
    "sharpened = cv2.filter2D(image, -1, kernel_shaprpening)\n",
    "\n",
    "\n",
    "cv2.imshow('Sharpened_Image',sharpened)\n",
    "\n",
    "cv2.waitKey(0)\n",
    "cv2.destroyAllWindows()\n",
    "\n",
    "\n",
    "\n",
    "\n",
    "\n",
    "\n",
    "\n",
    "\n",
    "\n",
    "\n",
    "\n",
    "\n",
    "\n",
    "\n",
    "\n",
    "\n",
    "\n"
   ]
  },
  {
   "cell_type": "markdown",
   "metadata": {},
   "source": [
    "# Flipping the images"
   ]
  },
  {
   "cell_type": "code",
   "execution_count": null,
   "metadata": {},
   "outputs": [],
   "source": [
    "import cv2\n",
    "  \n",
    "originalImage = cv2.imread('Test_Image.jpeg')\n",
    "  \n",
    "flipVertical = cv2.flip(originalImage, 0)\n",
    "flipHorizontal = cv2.flip(originalImage, 1)\n",
    "flipBoth = cv2.flip(originalImage, -1)\n",
    " \n",
    "cv2.imshow('Original image', originalImage)\n",
    "cv2.imshow('Flipped vertical image', flipVertical)\n",
    "cv2.imshow('Flipped horizontal image', flipHorizontal)\n",
    "cv2.imshow('Flipped both image', flipBoth)\n",
    " \n",
    "cv2.waitKey(0)\n",
    "cv2.destroyAllWindows()"
   ]
  },
  {
   "cell_type": "markdown",
   "metadata": {},
   "source": [
    "# Brightness"
   ]
  },
  {
   "cell_type": "code",
   "execution_count": null,
   "metadata": {},
   "outputs": [],
   "source": [
    "#Increase Brightness\n",
    "import cv2\n",
    "import numpy as np\n",
    "\n",
    "image = cv2.imread('Test_Image.jpeg')\n",
    "image = cv2.cvtColor(image, cv2.COLOR_BGR2HSV)\n",
    "\n",
    "increase = 100\n",
    "\n",
    "v = image[:, :, 2]\n",
    "v = np.where(v <= 255 - increase, v + increase, 255)\n",
    "image[:, :, 2] = v\n",
    "\n",
    "image = cv2.cvtColor(image, cv2.COLOR_HSV2BGR)\n",
    "\n",
    "cv2.imshow('Brightness_Increases', image)\n",
    "cv2.waitKey(0)\n",
    "cv2.destroyAllWindows()\n",
    "\n",
    "\n",
    "\n",
    "\n",
    "\n",
    "\n"
   ]
  },
  {
   "cell_type": "code",
   "execution_count": null,
   "metadata": {},
   "outputs": [],
   "source": [
    "#Decrease Brightness\n",
    "\n",
    "import cv2\n",
    "import numpy as np\n",
    "\n",
    "image = cv2.imread('Test_Image.jpeg')\n",
    "image = cv2.cvtColor(image, cv2.COLOR_BGR2HSV)\n",
    "\n",
    "decrease = 100\n",
    "\n",
    "v = image[:, :, 2]\n",
    "v = np.where(v <= 255 + decrease, v - decrease, 255)\n",
    "image[:, :, 2] = v\n",
    "\n",
    "image = cv2.cvtColor(image, cv2.COLOR_HSV2BGR)\n",
    "\n",
    "cv2.imshow('Brightness_Decreased', image)\n",
    "cv2.waitKey(0)\n",
    "cv2.destroyAllWindows()"
   ]
  },
  {
   "cell_type": "markdown",
   "metadata": {},
   "source": [
    "# Read the Images"
   ]
  },
  {
   "cell_type": "code",
   "execution_count": 10,
   "metadata": {},
   "outputs": [],
   "source": [
    "import cv2\n",
    "import os\n",
    "\n",
    "path1 = 'E:\\Data_Trained_Deep_Learning\\Assignment_3_Flipcart\\Train\\Jeans'\n",
    "path2 = 'E:\\Data_Trained_Deep_Learning\\Assignment_3_Flipcart\\Train\\Trousers'\n",
    "\n",
    "\n",
    "def loadImages(path=\".\"):\n",
    "    return [os.path.join(path,f) for f in os.listdir(path)]\n",
    "\n",
    "filenames1 = loadImages(path1)\n",
    "filenames2 = loadImages(path2)"
   ]
  },
  {
   "cell_type": "code",
   "execution_count": 11,
   "metadata": {},
   "outputs": [],
   "source": [
    "images1 = []\n",
    "for img in filenames1:\n",
    "    images1.append(cv2.imread(img, cv2.IMREAD_UNCHANGED))\n",
    "    "
   ]
  },
  {
   "cell_type": "code",
   "execution_count": 12,
   "metadata": {},
   "outputs": [],
   "source": [
    "images2 = []\n",
    "for img in filenames2:\n",
    "    images2.append(cv2.imread(img, cv2.IMREAD_UNCHANGED))"
   ]
  },
  {
   "cell_type": "code",
   "execution_count": 13,
   "metadata": {},
   "outputs": [],
   "source": [
    "for image in images1:\n",
    "    gray_image1 = cv2.cvtColor(image, cv2.COLOR_BGR2GRAY)\n",
    "    cv2.imshow('Gray_Image1',gray_image1)\n",
    "    gray_image1 = gray_image1 +1\n",
    "    cv2.waitKey(0)\n",
    "    cv2.destroyAllWindows()\n",
    "    \n",
    "    \n",
    "    "
   ]
  },
  {
   "cell_type": "code",
   "execution_count": 14,
   "metadata": {},
   "outputs": [],
   "source": [
    "for image in images2:\n",
    "    gray_image2 = cv2.cvtColor(image, cv2.COLOR_BGR2GRAY)\n",
    "    cv2.imshow('Gray_Image2',gray_image2)\n",
    "    gray_image2 = gray_image2 +1\n",
    "    cv2.waitKey(0)\n",
    "    cv2.destroyAllWindows()"
   ]
  },
  {
   "cell_type": "markdown",
   "metadata": {},
   "source": [
    "# Rotation of Images"
   ]
  },
  {
   "cell_type": "code",
   "execution_count": null,
   "metadata": {},
   "outputs": [],
   "source": [
    "  \n",
    "import cv2\n",
    "import numpy as np\n",
    "\n",
    "for image in gray_image1:\n",
    "    height , width= gray_image1.shape[:2]\n",
    "\n",
    "    rotation_matrix_positive = cv2.getRotationMatrix2D((width/2, height/2), 30, .5)\n",
    "    rotation_matrix_negative = cv2.getRotationMatrix2D((width/2, height/2), -30, .5)\n",
    "\n",
    "\n",
    "    rotated_image1 = cv2.warpAffine(image, rotation_matrix_positive,(width,height))\n",
    "    rotated_image1 = rotated_image1 + 1\n",
    "\n",
    "    cv2.imshow('Rotated_Image_positive',rotated_image1)\n",
    "    cv2.waitKey(0)\n",
    "    cv2.destroyAllWindows()\n",
    "\n",
    "    rotated_image2 = cv2.warpAffine(image, rotation_matrix_negative,(width,height))\n",
    "    rotated_image = rotated_image1 + 2\n",
    "\n",
    "    cv2.imshow('Rotated_Image_negative',rotated_image2)\n",
    "    cv2.waitKey(0)\n",
    "    cv2.destroyAllWindows()"
   ]
  },
  {
   "cell_type": "code",
   "execution_count": 15,
   "metadata": {},
   "outputs": [],
   "source": [
    "for image in gray_image2:\n",
    "    height , width= gray_image2.shape[:2]\n",
    "\n",
    "    rotation_matrix_positive = cv2.getRotationMatrix2D((width/2, height/2), 30, .5)\n",
    "    rotation_matrix_negative = cv2.getRotationMatrix2D((width/2, height/2), -30, .5)\n",
    "\n",
    "\n",
    "    rotated_image1 = cv2.warpAffine(image, rotation_matrix_positive,(width,height))\n",
    "    rotated_image1 = rotated_image1 + 1\n",
    "\n",
    "    cv2.imshow('Rotated_Image_positive',rotated_image1)\n",
    "    cv2.waitKey(0)\n",
    "    cv2.destroyAllWindows()\n",
    "\n",
    "    rotated_image2 = cv2.warpAffine(image, rotation_matrix_negative,(width,height))\n",
    "    rotated_image = rotated_image1 + 2\n",
    "\n",
    "    cv2.imshow('Rotated_Image_negative',rotated_image2)\n",
    "    cv2.waitKey(0)\n",
    "    cv2.destroyAllWindows()"
   ]
  },
  {
   "cell_type": "markdown",
   "metadata": {},
   "source": [
    "# Flipping"
   ]
  },
  {
   "cell_type": "code",
   "execution_count": null,
   "metadata": {},
   "outputs": [],
   "source": [
    "for image in gray_image1:\n",
    "  \n",
    "    flipVertical = cv2.flip(image, 0)\n",
    "    flipHorizontal = cv2.flip(gray_image1, 1)\n",
    "    flipBoth = cv2.flip(gray_image1, -1)\n",
    " \n",
    "    cv2.imshow('Original image', originalImage)\n",
    "    cv2.imshow('Flipped vertical image', flipVertical)\n",
    "    cv2.imshow('Flipped horizontal image', flipHorizontal)\n",
    "    cv2.imshow('Flipped both image', flipBoth)\n",
    "    \n",
    " \n",
    "    cv2.waitKey(0)\n",
    "    cv2.destroyAllWindows()"
   ]
  },
  {
   "cell_type": "code",
   "execution_count": null,
   "metadata": {},
   "outputs": [],
   "source": [
    "for image in gray_image2:\n",
    "  \n",
    "    flipVertical = cv2.flip(image, 0)\n",
    "    flipHorizontal = cv2.flip(gray_image2, 1)\n",
    "    flipBoth = cv2.flip(gray_image2, -1)\n",
    " \n",
    "    cv2.imshow('Original image', originalImage)\n",
    "    cv2.imshow('Flipped vertical image', flipVertical)\n",
    "    cv2.imshow('Flipped horizontal image', flipHorizontal)\n",
    "    cv2.imshow('Flipped both image', flipBoth)\n",
    "    \n",
    " \n",
    "    cv2.waitKey(0)\n",
    "    cv2.destroyAllWindows()"
   ]
  },
  {
   "cell_type": "markdown",
   "metadata": {},
   "source": [
    "# Sharpening"
   ]
  },
  {
   "cell_type": "code",
   "execution_count": null,
   "metadata": {},
   "outputs": [],
   "source": [
    "for image in gray_image1:\n",
    "\n",
    "    kernel_shaprpening = np.array([[-1,-1,-1],\n",
    "                               [-1,10,-1],\n",
    "                               [-1,-1,-1]])\n",
    "\n",
    "    sharpened = cv2.filter2D(image, -1, kernel_shaprpening)\n",
    "\n",
    "\n",
    "    cv2.imshow('Sharpened_Image',sharpened)\n",
    "\n",
    "    cv2.waitKey(0)\n",
    "    cv2.destroyAllWindows()"
   ]
  },
  {
   "cell_type": "code",
   "execution_count": null,
   "metadata": {},
   "outputs": [],
   "source": [
    "for image in gray_image2:\n",
    "\n",
    "    kernel_shaprpening = np.array([[-1,-1,-1],\n",
    "                               [-1,10,-1],\n",
    "                               [-1,-1,-1]])\n",
    "\n",
    "    sharpened = cv2.filter2D(image, -1, kernel_shaprpening)\n",
    "\n",
    "\n",
    "    cv2.imshow('Sharpened_Image',sharpened)\n",
    "\n",
    "    cv2.waitKey(0)\n",
    "    cv2.destroyAllWindows()"
   ]
  },
  {
   "cell_type": "markdown",
   "metadata": {},
   "source": [
    "# Traina model now"
   ]
  },
  {
   "cell_type": "code",
   "execution_count": 16,
   "metadata": {},
   "outputs": [
    {
     "name": "stdout",
     "output_type": "stream",
     "text": [
      "WARNING:tensorflow:From D:\\Anaconda\\lib\\site-packages\\keras\\backend\\tensorflow_backend.py:74: The name tf.get_default_graph is deprecated. Please use tf.compat.v1.get_default_graph instead.\n",
      "\n",
      "WARNING:tensorflow:From D:\\Anaconda\\lib\\site-packages\\keras\\backend\\tensorflow_backend.py:517: The name tf.placeholder is deprecated. Please use tf.compat.v1.placeholder instead.\n",
      "\n",
      "WARNING:tensorflow:From D:\\Anaconda\\lib\\site-packages\\keras\\backend\\tensorflow_backend.py:4138: The name tf.random_uniform is deprecated. Please use tf.random.uniform instead.\n",
      "\n",
      "WARNING:tensorflow:From D:\\Anaconda\\lib\\site-packages\\keras\\backend\\tensorflow_backend.py:3976: The name tf.nn.max_pool is deprecated. Please use tf.nn.max_pool2d instead.\n",
      "\n",
      "WARNING:tensorflow:From D:\\Anaconda\\lib\\site-packages\\keras\\backend\\tensorflow_backend.py:133: The name tf.placeholder_with_default is deprecated. Please use tf.compat.v1.placeholder_with_default instead.\n",
      "\n",
      "WARNING:tensorflow:From D:\\Anaconda\\lib\\site-packages\\keras\\backend\\tensorflow_backend.py:3445: calling dropout (from tensorflow.python.ops.nn_ops) with keep_prob is deprecated and will be removed in a future version.\n",
      "Instructions for updating:\n",
      "Please use `rate` instead of `keep_prob`. Rate should be set to `rate = 1 - keep_prob`.\n",
      "_________________________________________________________________\n",
      "Layer (type)                 Output Shape              Param #   \n",
      "=================================================================\n",
      "conv2d_1 (Conv2D)            (None, 148, 148, 32)      896       \n",
      "_________________________________________________________________\n",
      "activation_1 (Activation)    (None, 148, 148, 32)      0         \n",
      "_________________________________________________________________\n",
      "max_pooling2d_1 (MaxPooling2 (None, 74, 74, 32)        0         \n",
      "_________________________________________________________________\n",
      "dropout_1 (Dropout)          (None, 74, 74, 32)        0         \n",
      "_________________________________________________________________\n",
      "conv2d_2 (Conv2D)            (None, 72, 72, 32)        9248      \n",
      "_________________________________________________________________\n",
      "activation_2 (Activation)    (None, 72, 72, 32)        0         \n",
      "_________________________________________________________________\n",
      "max_pooling2d_2 (MaxPooling2 (None, 36, 36, 32)        0         \n",
      "_________________________________________________________________\n",
      "dropout_2 (Dropout)          (None, 36, 36, 32)        0         \n",
      "_________________________________________________________________\n",
      "conv2d_3 (Conv2D)            (None, 34, 34, 64)        18496     \n",
      "_________________________________________________________________\n",
      "activation_3 (Activation)    (None, 34, 34, 64)        0         \n",
      "_________________________________________________________________\n",
      "max_pooling2d_3 (MaxPooling2 (None, 17, 17, 64)        0         \n",
      "_________________________________________________________________\n",
      "dropout_3 (Dropout)          (None, 17, 17, 64)        0         \n",
      "_________________________________________________________________\n",
      "flatten_1 (Flatten)          (None, 18496)             0         \n",
      "_________________________________________________________________\n",
      "dense_1 (Dense)              (None, 64)                1183808   \n",
      "_________________________________________________________________\n",
      "activation_4 (Activation)    (None, 64)                0         \n",
      "_________________________________________________________________\n",
      "dropout_4 (Dropout)          (None, 64)                0         \n",
      "_________________________________________________________________\n",
      "dense_2 (Dense)              (None, 1)                 65        \n",
      "_________________________________________________________________\n",
      "activation_5 (Activation)    (None, 1)                 0         \n",
      "=================================================================\n",
      "Total params: 1,212,513\n",
      "Trainable params: 1,212,513\n",
      "Non-trainable params: 0\n",
      "_________________________________________________________________\n",
      "None\n",
      "WARNING:tensorflow:From D:\\Anaconda\\lib\\site-packages\\keras\\optimizers.py:790: The name tf.train.Optimizer is deprecated. Please use tf.compat.v1.train.Optimizer instead.\n",
      "\n",
      "WARNING:tensorflow:From D:\\Anaconda\\lib\\site-packages\\keras\\backend\\tensorflow_backend.py:3376: The name tf.log is deprecated. Please use tf.math.log instead.\n",
      "\n",
      "WARNING:tensorflow:From D:\\Anaconda\\lib\\site-packages\\tensorflow\\python\\ops\\nn_impl.py:180: add_dispatch_support.<locals>.wrapper (from tensorflow.python.ops.array_ops) is deprecated and will be removed in a future version.\n",
      "Instructions for updating:\n",
      "Use tf.where in 2.0, which has the same broadcast rule as np.where\n",
      "Found 160 images belonging to 2 classes.\n"
     ]
    }
   ],
   "source": [
    "model = Sequential()\n",
    "\n",
    "model.add(Conv2D(32, (3,3) , input_shape = input_shape))\n",
    "model.add(Activation('relu'))\n",
    "model.add(MaxPooling2D(pool_size=(2,2)))\n",
    "model.add(Dropout(0.5))\n",
    "model.add(Conv2D(32, (3,3)))\n",
    "model.add(Activation('relu'))\n",
    "model.add(MaxPooling2D(pool_size=(2,2)))\n",
    "model.add(Dropout(0.5))\n",
    "model.add(Conv2D(64, (3,3)))\n",
    "model.add(Activation('relu'))\n",
    "model.add(MaxPooling2D(pool_size=(2,2)))\n",
    "model.add(Dropout(0.5))\n",
    "\n",
    "\n",
    "\n",
    "\n",
    "model.add(Flatten())\n",
    "model.add(Dense(64))\n",
    "model.add(Activation('relu'))\n",
    "model.add(Dropout(0.5))\n",
    "model.add(Dense(1))\n",
    "model.add(Activation('sigmoid'))\n",
    "\n",
    "print(model.summary())\n",
    "\n",
    "\n",
    "model.compile(loss='binary_crossentropy',optimizer='rmsprop',metrics=['accuracy'])\n",
    "\n",
    "train_datagen_augmented = ImageDataGenerator(\n",
    "        rescale=1./255,\n",
    "        shear_range=0.2,\n",
    "        zoom_range=0.2,\n",
    "        rotation_range= 30,\n",
    "        horizontal_flip=True)\n",
    "\n",
    "\n",
    "train_generator_augmented = train_datagen_augmented.flow_from_directory(\n",
    "        train_data_dir,\n",
    "        target_size=(img_width,img_height),\n",
    "        batch_size=batch_size,\n",
    "        class_mode='binary')\n"
   ]
  },
  {
   "cell_type": "code",
   "execution_count": 19,
   "metadata": {},
   "outputs": [],
   "source": [
    "nb_train_samples = 160\n",
    "nb_validation_samples= 40\n",
    "batch_size = 32\n",
    "epochs =20"
   ]
  },
  {
   "cell_type": "code",
   "execution_count": 20,
   "metadata": {},
   "outputs": [
    {
     "name": "stdout",
     "output_type": "stream",
     "text": [
      "Epoch 1/20\n",
      "5/5 [==============================] - 1s 216ms/step - loss: 0.2406 - acc: 0.9250 - val_loss: 0.1758 - val_acc: 1.0000\n",
      "Epoch 2/20\n",
      "5/5 [==============================] - 1s 183ms/step - loss: 0.2007 - acc: 0.9125 - val_loss: 0.2819 - val_acc: 0.8125\n",
      "Epoch 3/20\n",
      "5/5 [==============================] - 1s 179ms/step - loss: 0.0828 - acc: 0.9750 - val_loss: 0.4222 - val_acc: 0.8750\n",
      "Epoch 4/20\n",
      "5/5 [==============================] - 1s 184ms/step - loss: 0.1053 - acc: 0.9625 - val_loss: 0.1612 - val_acc: 1.0000\n",
      "Epoch 5/20\n",
      "5/5 [==============================] - 1s 191ms/step - loss: 0.2004 - acc: 0.9250 - val_loss: 0.3283 - val_acc: 0.8750\n",
      "Epoch 6/20\n",
      "5/5 [==============================] - 1s 201ms/step - loss: 0.1179 - acc: 0.9625 - val_loss: 0.2225 - val_acc: 0.9375\n",
      "Epoch 7/20\n",
      "5/5 [==============================] - 1s 180ms/step - loss: 0.1981 - acc: 0.9375 - val_loss: 0.2249 - val_acc: 0.8750\n",
      "Epoch 8/20\n",
      "5/5 [==============================] - 1s 184ms/step - loss: 0.1869 - acc: 0.9250 - val_loss: 0.1811 - val_acc: 0.9375\n",
      "Epoch 9/20\n",
      "5/5 [==============================] - 1s 182ms/step - loss: 0.1066 - acc: 0.9625 - val_loss: 0.5547 - val_acc: 0.7500\n",
      "Epoch 10/20\n",
      "5/5 [==============================] - 1s 177ms/step - loss: 0.0585 - acc: 0.9750 - val_loss: 0.0888 - val_acc: 1.0000\n",
      "Epoch 11/20\n",
      "5/5 [==============================] - 1s 185ms/step - loss: 0.0385 - acc: 0.9750 - val_loss: 0.2083 - val_acc: 0.9375\n",
      "Epoch 12/20\n",
      "5/5 [==============================] - 3s 507ms/step - loss: 0.2663 - acc: 0.9250 - val_loss: 0.4758 - val_acc: 0.8750\n",
      "Epoch 13/20\n",
      "5/5 [==============================] - 1s 180ms/step - loss: 0.0592 - acc: 1.0000 - val_loss: 0.2349 - val_acc: 0.8750\n",
      "Epoch 14/20\n",
      "5/5 [==============================] - 1s 191ms/step - loss: 0.1320 - acc: 0.9625 - val_loss: 0.8224 - val_acc: 0.7500\n",
      "Epoch 15/20\n",
      "5/5 [==============================] - 1s 189ms/step - loss: 0.0848 - acc: 0.9750 - val_loss: 0.2679 - val_acc: 0.9375\n",
      "Epoch 16/20\n",
      "5/5 [==============================] - 1s 194ms/step - loss: 0.1247 - acc: 0.9750 - val_loss: 0.0748 - val_acc: 1.0000\n",
      "Epoch 17/20\n",
      "5/5 [==============================] - 1s 196ms/step - loss: 0.2586 - acc: 0.9125 - val_loss: 0.5678 - val_acc: 0.8750\n",
      "Epoch 18/20\n",
      "5/5 [==============================] - 1s 202ms/step - loss: 0.0688 - acc: 0.9875 - val_loss: 0.2242 - val_acc: 0.9375\n",
      "Epoch 19/20\n",
      "5/5 [==============================] - 1s 192ms/step - loss: 0.0223 - acc: 1.0000 - val_loss: 0.1950 - val_acc: 0.8750\n",
      "Epoch 20/20\n",
      "5/5 [==============================] - 1s 185ms/step - loss: 0.0514 - acc: 0.9875 - val_loss: 0.4235 - val_acc: 0.8750\n"
     ]
    }
   ],
   "source": [
    "history = model.fit_generator(\n",
    "    train_generator,\n",
    "    steps_per_epoch = nb_train_samples // batch_size,\n",
    "    epochs=epochs,\n",
    "    validation_data = validation_generator,\n",
    "    validation_steps = nb_validation_samples // batch_size)"
   ]
  },
  {
   "cell_type": "code",
   "execution_count": null,
   "metadata": {},
   "outputs": [],
   "source": []
  }
 ],
 "metadata": {
  "kernelspec": {
   "display_name": "Python 3",
   "language": "python",
   "name": "python3"
  },
  "language_info": {
   "codemirror_mode": {
    "name": "ipython",
    "version": 3
   },
   "file_extension": ".py",
   "mimetype": "text/x-python",
   "name": "python",
   "nbconvert_exporter": "python",
   "pygments_lexer": "ipython3",
   "version": "3.7.4"
  }
 },
 "nbformat": 4,
 "nbformat_minor": 2
}
