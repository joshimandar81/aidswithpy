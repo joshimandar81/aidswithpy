{
 "cells": [
  {
   "cell_type": "code",
   "execution_count": 41,
   "metadata": {},
   "outputs": [],
   "source": [
    "import numpy as np\n",
    "import matplotlib.pyplot as plt\n",
    "import os\n",
    "import cv2"
   ]
  },
  {
   "cell_type": "code",
   "execution_count": 42,
   "metadata": {},
   "outputs": [],
   "source": [
    "import os\n",
    "import numpy as np\n",
    "from keras.models import Sequential\n",
    "from keras.layers import Activation, Dropout, Flatten, Dense\n",
    "from keras.preprocessing.image import ImageDataGenerator\n",
    "from keras.layers import Conv2D, MaxPooling2D , ZeroPadding2D\n",
    "from keras import optimizers\n",
    "import scipy\n",
    "import pylab as pl\n",
    "import matplotlib.cm as cm\n",
    "%matplotlib inline"
   ]
  },
  {
   "cell_type": "code",
   "execution_count": 43,
   "metadata": {},
   "outputs": [],
   "source": [
    "input_shape =[150,150,3]\n",
    "img_width = 150\n",
    "img_height = 150\n",
    "batch_size=16"
   ]
  },
  {
   "cell_type": "code",
   "execution_count": 44,
   "metadata": {},
   "outputs": [],
   "source": [
    "train_data_dir = 'E:/Data_Trained_Deep_Learning/Flipcart_Jeans_Trousers/Train'\n",
    "validation_data_dir = 'E:/Data_Trained_Deep_Learning/Flipcart_Jeans_Trousers/Validation'"
   ]
  },
  {
   "cell_type": "code",
   "execution_count": 45,
   "metadata": {},
   "outputs": [],
   "source": [
    "datagen = ImageDataGenerator(rescale=1./255)"
   ]
  },
  {
   "cell_type": "code",
   "execution_count": 46,
   "metadata": {},
   "outputs": [
    {
     "name": "stdout",
     "output_type": "stream",
     "text": [
      "Found 160 images belonging to 2 classes.\n"
     ]
    }
   ],
   "source": [
    "train_generator = datagen.flow_from_directory(\n",
    "        train_data_dir,\n",
    "        target_size=[img_width,img_height],\n",
    "        batch_size=16,\n",
    "        class_mode='binary')"
   ]
  },
  {
   "cell_type": "code",
   "execution_count": 47,
   "metadata": {},
   "outputs": [
    {
     "name": "stdout",
     "output_type": "stream",
     "text": [
      "Found 40 images belonging to 2 classes.\n"
     ]
    }
   ],
   "source": [
    "validation_generator = datagen.flow_from_directory(\n",
    "        validation_data_dir,\n",
    "        target_size=[img_width,img_height],\n",
    "        batch_size=16,\n",
    "        class_mode='binary')"
   ]
  },
  {
   "cell_type": "code",
   "execution_count": 48,
   "metadata": {},
   "outputs": [
    {
     "name": "stdout",
     "output_type": "stream",
     "text": [
      "_________________________________________________________________\n",
      "Layer (type)                 Output Shape              Param #   \n",
      "=================================================================\n",
      "conv2d_10 (Conv2D)           (None, 148, 148, 32)      896       \n",
      "_________________________________________________________________\n",
      "activation_16 (Activation)   (None, 148, 148, 32)      0         \n",
      "_________________________________________________________________\n",
      "max_pooling2d_10 (MaxPooling (None, 74, 74, 32)        0         \n",
      "_________________________________________________________________\n",
      "dropout_13 (Dropout)         (None, 74, 74, 32)        0         \n",
      "_________________________________________________________________\n",
      "conv2d_11 (Conv2D)           (None, 72, 72, 32)        9248      \n",
      "_________________________________________________________________\n",
      "activation_17 (Activation)   (None, 72, 72, 32)        0         \n",
      "_________________________________________________________________\n",
      "max_pooling2d_11 (MaxPooling (None, 36, 36, 32)        0         \n",
      "_________________________________________________________________\n",
      "dropout_14 (Dropout)         (None, 36, 36, 32)        0         \n",
      "_________________________________________________________________\n",
      "conv2d_12 (Conv2D)           (None, 34, 34, 64)        18496     \n",
      "_________________________________________________________________\n",
      "activation_18 (Activation)   (None, 34, 34, 64)        0         \n",
      "_________________________________________________________________\n",
      "max_pooling2d_12 (MaxPooling (None, 17, 17, 64)        0         \n",
      "_________________________________________________________________\n",
      "dropout_15 (Dropout)         (None, 17, 17, 64)        0         \n",
      "_________________________________________________________________\n",
      "flatten_4 (Flatten)          (None, 18496)             0         \n",
      "_________________________________________________________________\n",
      "dense_7 (Dense)              (None, 64)                1183808   \n",
      "_________________________________________________________________\n",
      "activation_19 (Activation)   (None, 64)                0         \n",
      "_________________________________________________________________\n",
      "dropout_16 (Dropout)         (None, 64)                0         \n",
      "_________________________________________________________________\n",
      "dense_8 (Dense)              (None, 1)                 65        \n",
      "_________________________________________________________________\n",
      "activation_20 (Activation)   (None, 1)                 0         \n",
      "=================================================================\n",
      "Total params: 1,212,513\n",
      "Trainable params: 1,212,513\n",
      "Non-trainable params: 0\n",
      "_________________________________________________________________\n",
      "None\n",
      "Found 160 images belonging to 2 classes.\n"
     ]
    }
   ],
   "source": [
    "model = Sequential()\n",
    "\n",
    "model.add(Conv2D(32, (3,3) , input_shape = input_shape))\n",
    "model.add(Activation('relu'))\n",
    "model.add(MaxPooling2D(pool_size=(2,2)))\n",
    "model.add(Dropout(0.5))\n",
    "model.add(Conv2D(32, (3,3)))\n",
    "model.add(Activation('relu'))\n",
    "model.add(MaxPooling2D(pool_size=(2,2)))\n",
    "model.add(Dropout(0.5))\n",
    "model.add(Conv2D(64, (3,3)))\n",
    "model.add(Activation('relu'))\n",
    "model.add(MaxPooling2D(pool_size=(2,2)))\n",
    "model.add(Dropout(0.5))\n",
    "\n",
    "\n",
    "\n",
    "\n",
    "model.add(Flatten())\n",
    "model.add(Dense(64))\n",
    "model.add(Activation('relu'))\n",
    "model.add(Dropout(0.5))\n",
    "model.add(Dense(1))\n",
    "model.add(Activation('sigmoid'))\n",
    "\n",
    "print(model.summary())\n",
    "\n",
    "\n",
    "model.compile(loss='binary_crossentropy',optimizer='rmsprop',metrics=['accuracy'])\n",
    "\n",
    "train_datagen_augmented = ImageDataGenerator(\n",
    "        rescale=1./255,\n",
    "        shear_range=0.2,\n",
    "        zoom_range=0.2,\n",
    "        rotation_range= 30,\n",
    "        horizontal_flip=True)\n",
    "\n",
    "\n",
    "train_generator_augmented = train_datagen_augmented.flow_from_directory(\n",
    "        train_data_dir,\n",
    "        target_size=(img_width,img_height),\n",
    "        batch_size=batch_size,\n",
    "        class_mode='binary')\n",
    "\n",
    "\n",
    "\n"
   ]
  },
  {
   "cell_type": "code",
   "execution_count": 49,
   "metadata": {},
   "outputs": [],
   "source": [
    "nb_train_samples = 160\n",
    "nb_validation_samples= 40\n",
    "batch_size = 32\n",
    "epochs =30"
   ]
  },
  {
   "cell_type": "code",
   "execution_count": 50,
   "metadata": {},
   "outputs": [
    {
     "name": "stdout",
     "output_type": "stream",
     "text": [
      "Epoch 1/30\n",
      "5/5 [==============================] - 3s 624ms/step - loss: 3.1195 - acc: 0.4750 - val_loss: 0.6903 - val_acc: 0.5625\n",
      "Epoch 2/30\n",
      "5/5 [==============================] - 1s 249ms/step - loss: 0.7263 - acc: 0.5750 - val_loss: 0.6933 - val_acc: 0.5000\n",
      "Epoch 3/30\n",
      "5/5 [==============================] - 1s 248ms/step - loss: 0.6747 - acc: 0.5750 - val_loss: 0.6925 - val_acc: 0.5000\n",
      "Epoch 4/30\n",
      "5/5 [==============================] - 1s 225ms/step - loss: 0.7080 - acc: 0.4250 - val_loss: 0.6892 - val_acc: 0.6875\n",
      "Epoch 5/30\n",
      "5/5 [==============================] - 1s 228ms/step - loss: 0.6976 - acc: 0.5250 - val_loss: 0.6922 - val_acc: 0.5625\n",
      "Epoch 6/30\n",
      "5/5 [==============================] - 1s 211ms/step - loss: 0.6774 - acc: 0.6000 - val_loss: 0.6711 - val_acc: 1.0000\n",
      "Epoch 7/30\n",
      "5/5 [==============================] - 1s 216ms/step - loss: 0.6475 - acc: 0.6625 - val_loss: 0.6812 - val_acc: 0.5625\n",
      "Epoch 8/30\n",
      "5/5 [==============================] - 1s 219ms/step - loss: 0.6573 - acc: 0.5875 - val_loss: 0.6734 - val_acc: 0.6875\n",
      "Epoch 9/30\n",
      "5/5 [==============================] - 1s 210ms/step - loss: 0.6457 - acc: 0.6500 - val_loss: 0.6611 - val_acc: 0.6250\n",
      "Epoch 10/30\n",
      "5/5 [==============================] - 1s 223ms/step - loss: 0.5650 - acc: 0.7250 - val_loss: 0.5990 - val_acc: 0.6875\n",
      "Epoch 11/30\n",
      "5/5 [==============================] - 1s 222ms/step - loss: 0.5230 - acc: 0.7875 - val_loss: 0.6417 - val_acc: 0.6250\n",
      "Epoch 12/30\n",
      "5/5 [==============================] - 1s 224ms/step - loss: 0.5696 - acc: 0.7250 - val_loss: 0.4494 - val_acc: 0.7500\n",
      "Epoch 13/30\n",
      "5/5 [==============================] - 1s 210ms/step - loss: 0.6573 - acc: 0.7000 - val_loss: 0.6238 - val_acc: 0.6250\n",
      "Epoch 14/30\n",
      "5/5 [==============================] - 1s 217ms/step - loss: 0.6206 - acc: 0.6750 - val_loss: 0.5677 - val_acc: 0.8750\n",
      "Epoch 15/30\n",
      "5/5 [==============================] - 1s 238ms/step - loss: 0.5665 - acc: 0.7500 - val_loss: 0.5316 - val_acc: 0.6250\n",
      "Epoch 16/30\n",
      "5/5 [==============================] - 1s 219ms/step - loss: 0.4468 - acc: 0.8750 - val_loss: 0.4405 - val_acc: 0.8750\n",
      "Epoch 17/30\n",
      "5/5 [==============================] - 1s 218ms/step - loss: 0.4876 - acc: 0.8250 - val_loss: 0.5678 - val_acc: 0.8125\n",
      "Epoch 18/30\n",
      "5/5 [==============================] - 1s 216ms/step - loss: 0.4352 - acc: 0.8125 - val_loss: 0.5947 - val_acc: 0.7500\n",
      "Epoch 19/30\n",
      "5/5 [==============================] - 1s 235ms/step - loss: 0.5028 - acc: 0.8375 - val_loss: 0.4813 - val_acc: 0.8750\n",
      "Epoch 20/30\n",
      "5/5 [==============================] - 1s 220ms/step - loss: 0.3210 - acc: 0.9500 - val_loss: 0.7070 - val_acc: 0.6250\n",
      "Epoch 21/30\n",
      "5/5 [==============================] - 1s 221ms/step - loss: 0.3997 - acc: 0.8375 - val_loss: 0.2311 - val_acc: 1.0000\n",
      "Epoch 22/30\n",
      "5/5 [==============================] - 1s 221ms/step - loss: 0.3424 - acc: 0.8625 - val_loss: 0.4751 - val_acc: 0.8125\n",
      "Epoch 23/30\n",
      "5/5 [==============================] - 1s 220ms/step - loss: 0.3536 - acc: 0.8625 - val_loss: 0.4923 - val_acc: 0.8750\n",
      "Epoch 24/30\n",
      "5/5 [==============================] - 1s 223ms/step - loss: 0.2302 - acc: 0.9125 - val_loss: 0.0896 - val_acc: 1.0000\n",
      "Epoch 25/30\n",
      "5/5 [==============================] - 1s 224ms/step - loss: 0.2561 - acc: 0.8750 - val_loss: 0.4387 - val_acc: 0.8750\n",
      "Epoch 26/30\n",
      "5/5 [==============================] - 1s 222ms/step - loss: 0.2703 - acc: 0.9125 - val_loss: 0.3585 - val_acc: 0.9375\n",
      "Epoch 27/30\n",
      "5/5 [==============================] - 1s 217ms/step - loss: 0.2539 - acc: 0.9125 - val_loss: 0.4519 - val_acc: 0.7500\n",
      "Epoch 28/30\n",
      "5/5 [==============================] - 1s 218ms/step - loss: 0.4938 - acc: 0.7875 - val_loss: 0.4993 - val_acc: 0.7500\n",
      "Epoch 29/30\n",
      "5/5 [==============================] - 1s 234ms/step - loss: 0.2283 - acc: 0.9125 - val_loss: 0.2837 - val_acc: 0.8750\n",
      "Epoch 30/30\n",
      "5/5 [==============================] - 1s 213ms/step - loss: 0.2469 - acc: 0.9000 - val_loss: 0.3193 - val_acc: 0.8750\n"
     ]
    }
   ],
   "source": [
    "history = model.fit_generator(\n",
    "    train_generator,\n",
    "    steps_per_epoch = nb_train_samples // batch_size,\n",
    "    epochs=epochs,\n",
    "    validation_data = validation_generator,\n",
    "    validation_steps = nb_validation_samples // batch_size)"
   ]
  },
  {
   "cell_type": "code",
   "execution_count": 52,
   "metadata": {},
   "outputs": [
    {
     "data": {
      "image/png": "[encoded data removed]",
      "text/plain": [
       "<Figure size 432x288 with 1 Axes>"
      ]
     },
     "metadata": {
      "needs_background": "light"
     },
     "output_type": "display_data"
    }
   ],
   "source": [
    "import matplotlib.pyplot as plt\n",
    "\n",
    "history_dict = history.history\n",
    "\n",
    "loss_values = history_dict['acc']\n",
    "val_loss_values = history_dict['val_acc']\n",
    "epochs = range(1 , len(loss_values) + 1)\n",
    "\n",
    "line1 = plt.plot(epochs, val_loss_values, label='Validation/Test Accuracy')\n",
    "line2 = plt.plot(epochs, loss_values, label='Training Accuracy')\n",
    "plt.setp(line1, linewidth=2.0, marker='+', markersize=10.0)\n",
    "plt.setp(line1, linewidth=2.0, marker='4', markersize=10.0)\n",
    "plt.xlabel('Epochs')\n",
    "plt.ylabel('Loss')\n",
    "plt.grid(True)\n",
    "plt.legend()\n",
    "plt.show()\n",
    "\n",
    "\n",
    "\n",
    "\n",
    "\n",
    "\n",
    "\n",
    "\n"
   ]
  },
  {
   "cell_type": "code",
   "execution_count": null,
   "metadata": {},
   "outputs": [],
   "source": []
  }
 ],
 "metadata": {
  "kernelspec": {
   "display_name": "Python 3",
   "language": "python",
   "name": "python3"
  },
  "language_info": {
   "codemirror_mode": {
    "name": "ipython",
    "version": 3
   },
   "file_extension": ".py",
   "mimetype": "text/x-python",
   "name": "python",
   "nbconvert_exporter": "python",
   "pygments_lexer": "ipython3",
   "version": "3.7.4"
  }
 },
 "nbformat": 4,
 "nbformat_minor": 2
}
