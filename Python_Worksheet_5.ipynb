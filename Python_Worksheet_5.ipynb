{
 "cells": [
  {
   "cell_type": "code",
   "execution_count": 1,
   "metadata": {},
   "outputs": [],
   "source": [
    "import pandas as pd\n",
    "import numpy as np"
   ]
  },
  {
   "cell_type": "code",
   "execution_count": 28,
   "metadata": {},
   "outputs": [],
   "source": [
    "#write a python program to square the elements of a list by using list comprehension.\n",
    "list = [1,2,3,4,5,6]\n",
    "def square(list):\n",
    "    return [i ** 2 for i in list]"
   ]
  },
  {
   "cell_type": "code",
   "execution_count": 29,
   "metadata": {},
   "outputs": [
    {
     "data": {
      "text/plain": [
       "[1, 4, 9, 16, 25, 36]"
      ]
     },
     "execution_count": 29,
     "metadata": {},
     "output_type": "execute_result"
    }
   ],
   "source": [
    "square(list)"
   ]
  },
  {
   "cell_type": "code",
   "execution_count": 33,
   "metadata": {},
   "outputs": [
    {
     "name": "stdout",
     "output_type": "stream",
     "text": [
      "[2, 4, 10, 20, 5]\n"
     ]
    }
   ],
   "source": [
    "#Write a pyhton program to drop duplicate elements from a list of numbers.\n",
    "\n",
    "def Remove(duplicate): \n",
    "    final_list = [] \n",
    "    for num in duplicate: \n",
    "        if num not in final_list: \n",
    "            final_list.append(num) \n",
    "    return final_list \n",
    "      \n",
    " \n",
    "duplicate = [2, 4, 10, 20, 5, 2, 20, 4] \n",
    "print(Remove(duplicate)) "
   ]
  },
  {
   "cell_type": "code",
   "execution_count": 35,
   "metadata": {},
   "outputs": [
    {
     "name": "stdout",
     "output_type": "stream",
     "text": [
      "Union : {0, 1, 2, 3, 4, 5, 6, 8}\n",
      "Intersection : {2, 3, 4, 5}\n",
      "Difference : {1, 6}\n",
      "Symmetric difference : {0, 1, 6, 8}\n"
     ]
    }
   ],
   "source": [
    "#Take two sets of numbers and try implementing the set operations - intersection, union, difference and\n",
    "#symmetric_difference between them\n",
    "\n",
    "X = {1 , 2 ,3, 4, 5, 6}\n",
    "Y = {0, 2, 3, 4, 5, 8} \n",
    "  \n",
    "# union \n",
    "print(\"Union :\", X | Y) \n",
    "  \n",
    "# intersection \n",
    "print(\"Intersection :\", X & Y) \n",
    "  \n",
    "# difference \n",
    "print(\"Difference :\", X - Y) \n",
    "  \n",
    "# symmetric difference \n",
    "print(\"Symmetric difference :\", X ^ Y) "
   ]
  },
  {
   "cell_type": "code",
   "execution_count": 36,
   "metadata": {},
   "outputs": [
    {
     "name": "stdout",
     "output_type": "stream",
     "text": [
      " X + : {'e', 'u', 'o', 'a', 'i'}\n",
      "X + + : {'e', 'u', 'o', 'a', 'i'}\n"
     ]
    }
   ],
   "source": [
    "#Write a python program to add the elements of a set.\n",
    "\n",
    "# set of vowels\n",
    "X = {'a', 'e', 'i', 'u'}\n",
    "\n",
    "# adding 'o'\n",
    "X.add('o')\n",
    "print(' X + :', X)\n",
    "\n",
    "# adding 'a' again\n",
    "X.add('a')\n",
    "print('X + + :', X)"
   ]
  },
  {
   "cell_type": "code",
   "execution_count": null,
   "metadata": {},
   "outputs": [],
   "source": []
  }
 ],
 "metadata": {
  "kernelspec": {
   "display_name": "Python 3",
   "language": "python",
   "name": "python3"
  },
  "language_info": {
   "codemirror_mode": {
    "name": "ipython",
    "version": 3
   },
   "file_extension": ".py",
   "mimetype": "text/x-python",
   "name": "python",
   "nbconvert_exporter": "python",
   "pygments_lexer": "ipython3",
   "version": "3.8.3"
  }
 },
 "nbformat": 4,
 "nbformat_minor": 4
}
